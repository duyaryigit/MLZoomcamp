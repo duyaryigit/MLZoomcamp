{
 "cells": [
  {
   "cell_type": "code",
   "execution_count": 36,
   "id": "initial_id",
   "metadata": {
    "collapsed": true,
    "ExecuteTime": {
     "end_time": "2023-10-08T18:02:58.105702700Z",
     "start_time": "2023-10-08T18:02:58.081087200Z"
    }
   },
   "outputs": [],
   "source": [
    "import numpy as np\n",
    "import pandas as pd\n",
    "import seaborn as sns\n",
    "import matplotlib.pyplot as plt\n",
    "import warnings\n",
    "\n",
    "from sklearn.metrics import roc_auc_score\n",
    "from sklearn.metrics import roc_curve\n",
    "from sklearn.model_selection import KFold\n",
    "from sklearn.linear_model import Ridge\n",
    "from sklearn.metrics import mean_squared_error\n",
    "from sklearn.linear_model import LogisticRegression\n",
    "from sklearn.metrics import accuracy_score\n",
    "from sklearn.feature_extraction import DictVectorizer\n",
    "from sklearn.exceptions import ConvergenceWarning\n",
    "\n",
    "warnings.simplefilter(\"ignore\", category=ConvergenceWarning)\n",
    "warnings.simplefilter(action='ignore', category=FutureWarning)\n",
    "\n",
    "pd.set_option('display.max_rows', None)\n",
    "pd.set_option('display.max_columns', None)\n",
    "pd.set_option('display.width', 1000)\n",
    "pd.set_option('display.float_format', lambda x: '%.3f' % x)"
   ]
  },
  {
   "cell_type": "code",
   "execution_count": 37,
   "outputs": [
    {
     "data": {
      "text/plain": "  Make       Model  Year             Engine Fuel Type  Engine HP  Engine Cylinders Transmission Type     Driven_Wheels  Number of Doors                        Market Category Vehicle Size Vehicle Style  highway MPG  city mpg  Popularity   MSRP\n0  BMW  1 Series M  2011  premium unleaded (required)    335.000             6.000            MANUAL  rear wheel drive            2.000  Factory Tuner,Luxury,High-Performance      Compact         Coupe           26        19        3916  46135\n1  BMW    1 Series  2011  premium unleaded (required)    300.000             6.000            MANUAL  rear wheel drive            2.000                     Luxury,Performance      Compact   Convertible           28        19        3916  40650\n2  BMW    1 Series  2011  premium unleaded (required)    300.000             6.000            MANUAL  rear wheel drive            2.000                Luxury,High-Performance      Compact         Coupe           28        20        3916  36350\n3  BMW    1 Series  2011  premium unleaded (required)    230.000             6.000            MANUAL  rear wheel drive            2.000                     Luxury,Performance      Compact         Coupe           28        18        3916  29450\n4  BMW    1 Series  2011  premium unleaded (required)    230.000             6.000            MANUAL  rear wheel drive            2.000                                 Luxury      Compact   Convertible           28        18        3916  34500",
      "text/html": "<div>\n<style scoped>\n    .dataframe tbody tr th:only-of-type {\n        vertical-align: middle;\n    }\n\n    .dataframe tbody tr th {\n        vertical-align: top;\n    }\n\n    .dataframe thead th {\n        text-align: right;\n    }\n</style>\n<table border=\"1\" class=\"dataframe\">\n  <thead>\n    <tr style=\"text-align: right;\">\n      <th></th>\n      <th>Make</th>\n      <th>Model</th>\n      <th>Year</th>\n      <th>Engine Fuel Type</th>\n      <th>Engine HP</th>\n      <th>Engine Cylinders</th>\n      <th>Transmission Type</th>\n      <th>Driven_Wheels</th>\n      <th>Number of Doors</th>\n      <th>Market Category</th>\n      <th>Vehicle Size</th>\n      <th>Vehicle Style</th>\n      <th>highway MPG</th>\n      <th>city mpg</th>\n      <th>Popularity</th>\n      <th>MSRP</th>\n    </tr>\n  </thead>\n  <tbody>\n    <tr>\n      <th>0</th>\n      <td>BMW</td>\n      <td>1 Series M</td>\n      <td>2011</td>\n      <td>premium unleaded (required)</td>\n      <td>335.000</td>\n      <td>6.000</td>\n      <td>MANUAL</td>\n      <td>rear wheel drive</td>\n      <td>2.000</td>\n      <td>Factory Tuner,Luxury,High-Performance</td>\n      <td>Compact</td>\n      <td>Coupe</td>\n      <td>26</td>\n      <td>19</td>\n      <td>3916</td>\n      <td>46135</td>\n    </tr>\n    <tr>\n      <th>1</th>\n      <td>BMW</td>\n      <td>1 Series</td>\n      <td>2011</td>\n      <td>premium unleaded (required)</td>\n      <td>300.000</td>\n      <td>6.000</td>\n      <td>MANUAL</td>\n      <td>rear wheel drive</td>\n      <td>2.000</td>\n      <td>Luxury,Performance</td>\n      <td>Compact</td>\n      <td>Convertible</td>\n      <td>28</td>\n      <td>19</td>\n      <td>3916</td>\n      <td>40650</td>\n    </tr>\n    <tr>\n      <th>2</th>\n      <td>BMW</td>\n      <td>1 Series</td>\n      <td>2011</td>\n      <td>premium unleaded (required)</td>\n      <td>300.000</td>\n      <td>6.000</td>\n      <td>MANUAL</td>\n      <td>rear wheel drive</td>\n      <td>2.000</td>\n      <td>Luxury,High-Performance</td>\n      <td>Compact</td>\n      <td>Coupe</td>\n      <td>28</td>\n      <td>20</td>\n      <td>3916</td>\n      <td>36350</td>\n    </tr>\n    <tr>\n      <th>3</th>\n      <td>BMW</td>\n      <td>1 Series</td>\n      <td>2011</td>\n      <td>premium unleaded (required)</td>\n      <td>230.000</td>\n      <td>6.000</td>\n      <td>MANUAL</td>\n      <td>rear wheel drive</td>\n      <td>2.000</td>\n      <td>Luxury,Performance</td>\n      <td>Compact</td>\n      <td>Coupe</td>\n      <td>28</td>\n      <td>18</td>\n      <td>3916</td>\n      <td>29450</td>\n    </tr>\n    <tr>\n      <th>4</th>\n      <td>BMW</td>\n      <td>1 Series</td>\n      <td>2011</td>\n      <td>premium unleaded (required)</td>\n      <td>230.000</td>\n      <td>6.000</td>\n      <td>MANUAL</td>\n      <td>rear wheel drive</td>\n      <td>2.000</td>\n      <td>Luxury</td>\n      <td>Compact</td>\n      <td>Convertible</td>\n      <td>28</td>\n      <td>18</td>\n      <td>3916</td>\n      <td>34500</td>\n    </tr>\n  </tbody>\n</table>\n</div>"
     },
     "execution_count": 37,
     "metadata": {},
     "output_type": "execute_result"
    }
   ],
   "source": [
    "df_ = pd.read_csv(\"https://raw.githubusercontent.com/alexeygrigorev/mlbookcamp-code/master/chapter-02-car-price/data.csv\")\n",
    "df = df_.copy()\n",
    "df.head()"
   ],
   "metadata": {
    "collapsed": false,
    "ExecuteTime": {
     "end_time": "2023-10-08T18:03:00.549426200Z",
     "start_time": "2023-10-08T18:02:59.698047400Z"
    }
   },
   "id": "1e45ba129fcd355f"
  },
  {
   "cell_type": "code",
   "execution_count": 38,
   "outputs": [],
   "source": [
    "list = [\"Make\",\"Model\",\"Year\",\"Engine HP\",\"Engine Cylinders\",\"Transmission Type\",\"Vehicle Style\",\"highway MPG\",\"city mpg\",\"MSRP\"]\n",
    "df = df[list].fillna(0)"
   ],
   "metadata": {
    "collapsed": false,
    "ExecuteTime": {
     "end_time": "2023-10-08T18:03:00.594169Z",
     "start_time": "2023-10-08T18:03:00.550427800Z"
    }
   },
   "id": "23c412dba6a6a28e"
  },
  {
   "cell_type": "code",
   "execution_count": 39,
   "outputs": [
    {
     "data": {
      "text/plain": "  make       model  year  engine_hp  engine_cylinders transmission_type vehicle_style  highway_mpg  city_mpg   msrp\n0  BMW  1 Series M  2011    335.000             6.000            MANUAL         Coupe           26        19  46135\n1  BMW    1 Series  2011    300.000             6.000            MANUAL   Convertible           28        19  40650\n2  BMW    1 Series  2011    300.000             6.000            MANUAL         Coupe           28        20  36350\n3  BMW    1 Series  2011    230.000             6.000            MANUAL         Coupe           28        18  29450\n4  BMW    1 Series  2011    230.000             6.000            MANUAL   Convertible           28        18  34500",
      "text/html": "<div>\n<style scoped>\n    .dataframe tbody tr th:only-of-type {\n        vertical-align: middle;\n    }\n\n    .dataframe tbody tr th {\n        vertical-align: top;\n    }\n\n    .dataframe thead th {\n        text-align: right;\n    }\n</style>\n<table border=\"1\" class=\"dataframe\">\n  <thead>\n    <tr style=\"text-align: right;\">\n      <th></th>\n      <th>make</th>\n      <th>model</th>\n      <th>year</th>\n      <th>engine_hp</th>\n      <th>engine_cylinders</th>\n      <th>transmission_type</th>\n      <th>vehicle_style</th>\n      <th>highway_mpg</th>\n      <th>city_mpg</th>\n      <th>msrp</th>\n    </tr>\n  </thead>\n  <tbody>\n    <tr>\n      <th>0</th>\n      <td>BMW</td>\n      <td>1 Series M</td>\n      <td>2011</td>\n      <td>335.000</td>\n      <td>6.000</td>\n      <td>MANUAL</td>\n      <td>Coupe</td>\n      <td>26</td>\n      <td>19</td>\n      <td>46135</td>\n    </tr>\n    <tr>\n      <th>1</th>\n      <td>BMW</td>\n      <td>1 Series</td>\n      <td>2011</td>\n      <td>300.000</td>\n      <td>6.000</td>\n      <td>MANUAL</td>\n      <td>Convertible</td>\n      <td>28</td>\n      <td>19</td>\n      <td>40650</td>\n    </tr>\n    <tr>\n      <th>2</th>\n      <td>BMW</td>\n      <td>1 Series</td>\n      <td>2011</td>\n      <td>300.000</td>\n      <td>6.000</td>\n      <td>MANUAL</td>\n      <td>Coupe</td>\n      <td>28</td>\n      <td>20</td>\n      <td>36350</td>\n    </tr>\n    <tr>\n      <th>3</th>\n      <td>BMW</td>\n      <td>1 Series</td>\n      <td>2011</td>\n      <td>230.000</td>\n      <td>6.000</td>\n      <td>MANUAL</td>\n      <td>Coupe</td>\n      <td>28</td>\n      <td>18</td>\n      <td>29450</td>\n    </tr>\n    <tr>\n      <th>4</th>\n      <td>BMW</td>\n      <td>1 Series</td>\n      <td>2011</td>\n      <td>230.000</td>\n      <td>6.000</td>\n      <td>MANUAL</td>\n      <td>Convertible</td>\n      <td>28</td>\n      <td>18</td>\n      <td>34500</td>\n    </tr>\n  </tbody>\n</table>\n</div>"
     },
     "execution_count": 39,
     "metadata": {},
     "output_type": "execute_result"
    }
   ],
   "source": [
    "df.columns = df.columns.str.replace(' ', '_').str.lower()\n",
    "df.head()"
   ],
   "metadata": {
    "collapsed": false,
    "ExecuteTime": {
     "end_time": "2023-10-08T18:03:00.643731800Z",
     "start_time": "2023-10-08T18:03:00.571459800Z"
    }
   },
   "id": "560af26bed81fbdf"
  },
  {
   "cell_type": "code",
   "execution_count": 40,
   "outputs": [
    {
     "data": {
      "text/plain": "  make       model  year  engine_hp  engine_cylinders transmission_type vehicle_style  highway_mpg  city_mpg  price\n0  BMW  1 Series M  2011    335.000             6.000            MANUAL         Coupe           26        19  46135\n1  BMW    1 Series  2011    300.000             6.000            MANUAL   Convertible           28        19  40650\n2  BMW    1 Series  2011    300.000             6.000            MANUAL         Coupe           28        20  36350\n3  BMW    1 Series  2011    230.000             6.000            MANUAL         Coupe           28        18  29450\n4  BMW    1 Series  2011    230.000             6.000            MANUAL   Convertible           28        18  34500",
      "text/html": "<div>\n<style scoped>\n    .dataframe tbody tr th:only-of-type {\n        vertical-align: middle;\n    }\n\n    .dataframe tbody tr th {\n        vertical-align: top;\n    }\n\n    .dataframe thead th {\n        text-align: right;\n    }\n</style>\n<table border=\"1\" class=\"dataframe\">\n  <thead>\n    <tr style=\"text-align: right;\">\n      <th></th>\n      <th>make</th>\n      <th>model</th>\n      <th>year</th>\n      <th>engine_hp</th>\n      <th>engine_cylinders</th>\n      <th>transmission_type</th>\n      <th>vehicle_style</th>\n      <th>highway_mpg</th>\n      <th>city_mpg</th>\n      <th>price</th>\n    </tr>\n  </thead>\n  <tbody>\n    <tr>\n      <th>0</th>\n      <td>BMW</td>\n      <td>1 Series M</td>\n      <td>2011</td>\n      <td>335.000</td>\n      <td>6.000</td>\n      <td>MANUAL</td>\n      <td>Coupe</td>\n      <td>26</td>\n      <td>19</td>\n      <td>46135</td>\n    </tr>\n    <tr>\n      <th>1</th>\n      <td>BMW</td>\n      <td>1 Series</td>\n      <td>2011</td>\n      <td>300.000</td>\n      <td>6.000</td>\n      <td>MANUAL</td>\n      <td>Convertible</td>\n      <td>28</td>\n      <td>19</td>\n      <td>40650</td>\n    </tr>\n    <tr>\n      <th>2</th>\n      <td>BMW</td>\n      <td>1 Series</td>\n      <td>2011</td>\n      <td>300.000</td>\n      <td>6.000</td>\n      <td>MANUAL</td>\n      <td>Coupe</td>\n      <td>28</td>\n      <td>20</td>\n      <td>36350</td>\n    </tr>\n    <tr>\n      <th>3</th>\n      <td>BMW</td>\n      <td>1 Series</td>\n      <td>2011</td>\n      <td>230.000</td>\n      <td>6.000</td>\n      <td>MANUAL</td>\n      <td>Coupe</td>\n      <td>28</td>\n      <td>18</td>\n      <td>29450</td>\n    </tr>\n    <tr>\n      <th>4</th>\n      <td>BMW</td>\n      <td>1 Series</td>\n      <td>2011</td>\n      <td>230.000</td>\n      <td>6.000</td>\n      <td>MANUAL</td>\n      <td>Convertible</td>\n      <td>28</td>\n      <td>18</td>\n      <td>34500</td>\n    </tr>\n  </tbody>\n</table>\n</div>"
     },
     "execution_count": 40,
     "metadata": {},
     "output_type": "execute_result"
    }
   ],
   "source": [
    "df.rename(columns = {\"msrp\":\"price\"}, inplace = True)\n",
    "df.head()"
   ],
   "metadata": {
    "collapsed": false,
    "ExecuteTime": {
     "end_time": "2023-10-08T18:03:00.644738800Z",
     "start_time": "2023-10-08T18:03:00.581969700Z"
    }
   },
   "id": "ebbb54fa0d6035c8"
  },
  {
   "cell_type": "code",
   "execution_count": 41,
   "outputs": [],
   "source": [
    "dff = df.copy()\n",
    "mean = dff['price'].mean()\n",
    "\n",
    "dff['above_average'] = np.where(dff['price']>=mean,1,0)"
   ],
   "metadata": {
    "collapsed": false,
    "ExecuteTime": {
     "end_time": "2023-10-08T18:03:02.481885400Z",
     "start_time": "2023-10-08T18:03:02.468376300Z"
    }
   },
   "id": "bf96d12f3de10c08"
  },
  {
   "cell_type": "code",
   "execution_count": 42,
   "outputs": [
    {
     "data": {
      "text/plain": "  make       model  year  engine_hp  engine_cylinders transmission_type vehicle_style  highway_mpg  city_mpg  above_average\n0  BMW  1 Series M  2011    335.000             6.000            MANUAL         Coupe           26        19              1\n1  BMW    1 Series  2011    300.000             6.000            MANUAL   Convertible           28        19              1\n2  BMW    1 Series  2011    300.000             6.000            MANUAL         Coupe           28        20              0\n3  BMW    1 Series  2011    230.000             6.000            MANUAL         Coupe           28        18              0\n4  BMW    1 Series  2011    230.000             6.000            MANUAL   Convertible           28        18              0",
      "text/html": "<div>\n<style scoped>\n    .dataframe tbody tr th:only-of-type {\n        vertical-align: middle;\n    }\n\n    .dataframe tbody tr th {\n        vertical-align: top;\n    }\n\n    .dataframe thead th {\n        text-align: right;\n    }\n</style>\n<table border=\"1\" class=\"dataframe\">\n  <thead>\n    <tr style=\"text-align: right;\">\n      <th></th>\n      <th>make</th>\n      <th>model</th>\n      <th>year</th>\n      <th>engine_hp</th>\n      <th>engine_cylinders</th>\n      <th>transmission_type</th>\n      <th>vehicle_style</th>\n      <th>highway_mpg</th>\n      <th>city_mpg</th>\n      <th>above_average</th>\n    </tr>\n  </thead>\n  <tbody>\n    <tr>\n      <th>0</th>\n      <td>BMW</td>\n      <td>1 Series M</td>\n      <td>2011</td>\n      <td>335.000</td>\n      <td>6.000</td>\n      <td>MANUAL</td>\n      <td>Coupe</td>\n      <td>26</td>\n      <td>19</td>\n      <td>1</td>\n    </tr>\n    <tr>\n      <th>1</th>\n      <td>BMW</td>\n      <td>1 Series</td>\n      <td>2011</td>\n      <td>300.000</td>\n      <td>6.000</td>\n      <td>MANUAL</td>\n      <td>Convertible</td>\n      <td>28</td>\n      <td>19</td>\n      <td>1</td>\n    </tr>\n    <tr>\n      <th>2</th>\n      <td>BMW</td>\n      <td>1 Series</td>\n      <td>2011</td>\n      <td>300.000</td>\n      <td>6.000</td>\n      <td>MANUAL</td>\n      <td>Coupe</td>\n      <td>28</td>\n      <td>20</td>\n      <td>0</td>\n    </tr>\n    <tr>\n      <th>3</th>\n      <td>BMW</td>\n      <td>1 Series</td>\n      <td>2011</td>\n      <td>230.000</td>\n      <td>6.000</td>\n      <td>MANUAL</td>\n      <td>Coupe</td>\n      <td>28</td>\n      <td>18</td>\n      <td>0</td>\n    </tr>\n    <tr>\n      <th>4</th>\n      <td>BMW</td>\n      <td>1 Series</td>\n      <td>2011</td>\n      <td>230.000</td>\n      <td>6.000</td>\n      <td>MANUAL</td>\n      <td>Convertible</td>\n      <td>28</td>\n      <td>18</td>\n      <td>0</td>\n    </tr>\n  </tbody>\n</table>\n</div>"
     },
     "execution_count": 42,
     "metadata": {},
     "output_type": "execute_result"
    }
   ],
   "source": [
    "dff = dff.drop('price', axis=1)\n",
    "dff.head()"
   ],
   "metadata": {
    "collapsed": false,
    "ExecuteTime": {
     "end_time": "2023-10-08T18:03:04.232984500Z",
     "start_time": "2023-10-08T18:03:04.205800900Z"
    }
   },
   "id": "e9b1f4bf61b1319e"
  },
  {
   "cell_type": "code",
   "execution_count": 43,
   "outputs": [],
   "source": [
    "from sklearn.model_selection import train_test_split\n",
    "\n",
    "df_train_full, df_test = train_test_split(dff, test_size=0.2, random_state=1)\n",
    "df_train, df_val = train_test_split(df_train_full, test_size=0.25, random_state=1)"
   ],
   "metadata": {
    "collapsed": false,
    "ExecuteTime": {
     "end_time": "2023-10-08T18:03:06.180377200Z",
     "start_time": "2023-10-08T18:03:06.165503500Z"
    }
   },
   "id": "f2789c405664a32b"
  },
  {
   "cell_type": "code",
   "execution_count": 44,
   "outputs": [],
   "source": [
    "df_train = df_train.reset_index(drop=True)\n",
    "df_val = df_val.reset_index(drop=True)\n",
    "df_test = df_test.reset_index(drop=True)"
   ],
   "metadata": {
    "collapsed": false,
    "ExecuteTime": {
     "end_time": "2023-10-08T18:03:09.603911200Z",
     "start_time": "2023-10-08T18:03:09.581078300Z"
    }
   },
   "id": "5310907d78b5c399"
  },
  {
   "cell_type": "code",
   "execution_count": 45,
   "outputs": [],
   "source": [
    "y_train = df_train.above_average.values\n",
    "y_val = df_val.above_average.values\n",
    "y_test = df_test.above_average.values"
   ],
   "metadata": {
    "collapsed": false,
    "ExecuteTime": {
     "end_time": "2023-10-08T18:03:11.180707100Z",
     "start_time": "2023-10-08T18:03:11.166670400Z"
    }
   },
   "id": "c0a58fc81b49d5c9"
  },
  {
   "cell_type": "code",
   "execution_count": 46,
   "outputs": [],
   "source": [
    "df_train = df_train.drop('above_average', axis=1)\n",
    "df_val = df_val.drop('above_average', axis=1)\n",
    "df_test = df_test.drop('above_average', axis=1)"
   ],
   "metadata": {
    "collapsed": false,
    "ExecuteTime": {
     "end_time": "2023-10-08T18:03:12.706375200Z",
     "start_time": "2023-10-08T18:03:12.692707900Z"
    }
   },
   "id": "b644a93a940c9225"
  },
  {
   "cell_type": "code",
   "execution_count": 49,
   "outputs": [
    {
     "name": "stdout",
     "output_type": "stream",
     "text": [
      "num_cols : ['year', 'engine_hp', 'engine_cylinders', 'highway_mpg', 'city_mpg']\n",
      "cat_cols : ['make', 'model', 'transmission_type', 'vehicle_style']\n"
     ]
    }
   ],
   "source": [
    "cat_cols = [col for col in df_train.columns if df[col].dtype == \"O\"]\n",
    "num_cols = [col for col in df_train.columns if df[col].dtype != \"O\"]\n",
    "\n",
    "print(f\"num_cols : {num}\\ncat_cols : {cat}\")"
   ],
   "metadata": {
    "collapsed": false,
    "ExecuteTime": {
     "end_time": "2023-10-08T18:05:25.665989700Z",
     "start_time": "2023-10-08T18:05:25.649525400Z"
    }
   },
   "id": "6934f9525deaaae5"
  },
  {
   "cell_type": "markdown",
   "source": [
    "### Q1 : Which numerical variable (among the following 4) has the highest AUC?"
   ],
   "metadata": {
    "collapsed": false
   },
   "id": "fad3eb2a2d9da83a"
  },
  {
   "cell_type": "code",
   "execution_count": 51,
   "outputs": [
    {
     "name": "stdout",
     "output_type": "stream",
     "text": [
      "     year, 0.688\n",
      "engine_hp, 0.917\n",
      "engine_cylinders, 0.766\n",
      "highway_mpg, 0.633\n",
      " city_mpg, 0.673\n"
     ]
    }
   ],
   "source": [
    "#@ CALCULATING ROC AUC SCORE:\n",
    "for c in num_cols:\n",
    "    auc = roc_auc_score(y_train, df_train[c])\n",
    "    if auc < 0.5:\n",
    "        auc = roc_auc_score(y_train, -df_train[c])\n",
    "    print('%9s, %.3f' % (c, auc))"
   ],
   "metadata": {
    "collapsed": false,
    "ExecuteTime": {
     "end_time": "2023-10-08T18:05:57.722294100Z",
     "start_time": "2023-10-08T18:05:57.703538900Z"
    }
   },
   "id": "363ae4293bd18830"
  },
  {
   "cell_type": "code",
   "execution_count": 52,
   "outputs": [
    {
     "name": "stdout",
     "output_type": "stream",
     "text": [
      "Q1 : engine_hp\n"
     ]
    }
   ],
   "source": [
    "print(\"Q1 : engine_hp\")"
   ],
   "metadata": {
    "collapsed": false,
    "ExecuteTime": {
     "end_time": "2023-10-08T18:06:41.910052800Z",
     "start_time": "2023-10-08T18:06:41.894541600Z"
    }
   },
   "id": "c23fee13fab5b745"
  },
  {
   "cell_type": "markdown",
   "source": [
    "### Q2 : What's the AUC of this model on the validation dataset? (round to 3 digits)"
   ],
   "metadata": {
    "collapsed": false
   },
   "id": "2038e5ac1ba035b8"
  },
  {
   "cell_type": "code",
   "execution_count": 56,
   "outputs": [],
   "source": [
    "#@ TRAINING LOGISTIC REGRESSION MODEL:\n",
    "columns = cat_cols + num_cols\n",
    "\n",
    "train_dicts = df_train[columns].to_dict(orient='records')\n",
    "dv = DictVectorizer(sparse=False)\n",
    "X_train = dv.fit_transform(train_dicts)\n",
    "\n",
    "model = LogisticRegression(solver='liblinear', C=1.0, max_iter=1000)\n",
    "model.fit(X_train, y_train)\n",
    "\n",
    "val_dicts = df_val[columns].to_dict(orient='records')\n",
    "X_val = dv.transform(val_dicts)\n",
    "\n",
    "y_pred = model.predict_proba(X_val)[:, 1]"
   ],
   "metadata": {
    "collapsed": false,
    "ExecuteTime": {
     "end_time": "2023-10-08T18:09:19.735484200Z",
     "start_time": "2023-10-08T18:09:19.605207Z"
    }
   },
   "id": "e67d7bb2c1e2603d"
  },
  {
   "cell_type": "code",
   "execution_count": 75,
   "outputs": [
    {
     "name": "stdout",
     "output_type": "stream",
     "text": [
      "Q2 : 0.977\n"
     ]
    }
   ],
   "source": [
    "#@ INSPECTING ROC AUC SCORE:\n",
    "print(f\"Q2 : {roc_auc_score(y_val, y_pred).__round__(3)}\")"
   ],
   "metadata": {
    "collapsed": false,
    "ExecuteTime": {
     "end_time": "2023-10-08T18:20:23.395089600Z",
     "start_time": "2023-10-08T18:20:23.379074500Z"
    }
   },
   "id": "7b68b30f4d1501ce"
  },
  {
   "cell_type": "code",
   "execution_count": 58,
   "outputs": [
    {
     "data": {
      "text/plain": "0.9134294805468152"
     },
     "execution_count": 58,
     "metadata": {},
     "output_type": "execute_result"
    }
   ],
   "source": [
    "#@ INSPECTING THE ROC AUC SCORE:\n",
    "y_pred_bin = model.predict(X_val)\n",
    "roc_auc_score(y_val, y_pred_bin)"
   ],
   "metadata": {
    "collapsed": false,
    "ExecuteTime": {
     "end_time": "2023-10-08T18:09:40.015645400Z",
     "start_time": "2023-10-08T18:09:39.992004200Z"
    }
   },
   "id": "245a6c4273882f"
  },
  {
   "cell_type": "code",
   "execution_count": 59,
   "outputs": [
    {
     "data": {
      "text/plain": "     threshold   tp    fp   fn    tn\n0        0.000  654  1729    0     0\n10       0.100  644   358   10  1371\n20       0.200  625   226   29  1503\n30       0.300  603   155   51  1574\n40       0.400  585   112   69  1617\n50       0.500  568    72   86  1657\n60       0.600  518    52  136  1677\n70       0.700  489    29  165  1700\n80       0.800  427    14  227  1715\n90       0.900  349     4  305  1725\n100      1.000    0     0  654  1729",
      "text/html": "<div>\n<style scoped>\n    .dataframe tbody tr th:only-of-type {\n        vertical-align: middle;\n    }\n\n    .dataframe tbody tr th {\n        vertical-align: top;\n    }\n\n    .dataframe thead th {\n        text-align: right;\n    }\n</style>\n<table border=\"1\" class=\"dataframe\">\n  <thead>\n    <tr style=\"text-align: right;\">\n      <th></th>\n      <th>threshold</th>\n      <th>tp</th>\n      <th>fp</th>\n      <th>fn</th>\n      <th>tn</th>\n    </tr>\n  </thead>\n  <tbody>\n    <tr>\n      <th>0</th>\n      <td>0.000</td>\n      <td>654</td>\n      <td>1729</td>\n      <td>0</td>\n      <td>0</td>\n    </tr>\n    <tr>\n      <th>10</th>\n      <td>0.100</td>\n      <td>644</td>\n      <td>358</td>\n      <td>10</td>\n      <td>1371</td>\n    </tr>\n    <tr>\n      <th>20</th>\n      <td>0.200</td>\n      <td>625</td>\n      <td>226</td>\n      <td>29</td>\n      <td>1503</td>\n    </tr>\n    <tr>\n      <th>30</th>\n      <td>0.300</td>\n      <td>603</td>\n      <td>155</td>\n      <td>51</td>\n      <td>1574</td>\n    </tr>\n    <tr>\n      <th>40</th>\n      <td>0.400</td>\n      <td>585</td>\n      <td>112</td>\n      <td>69</td>\n      <td>1617</td>\n    </tr>\n    <tr>\n      <th>50</th>\n      <td>0.500</td>\n      <td>568</td>\n      <td>72</td>\n      <td>86</td>\n      <td>1657</td>\n    </tr>\n    <tr>\n      <th>60</th>\n      <td>0.600</td>\n      <td>518</td>\n      <td>52</td>\n      <td>136</td>\n      <td>1677</td>\n    </tr>\n    <tr>\n      <th>70</th>\n      <td>0.700</td>\n      <td>489</td>\n      <td>29</td>\n      <td>165</td>\n      <td>1700</td>\n    </tr>\n    <tr>\n      <th>80</th>\n      <td>0.800</td>\n      <td>427</td>\n      <td>14</td>\n      <td>227</td>\n      <td>1715</td>\n    </tr>\n    <tr>\n      <th>90</th>\n      <td>0.900</td>\n      <td>349</td>\n      <td>4</td>\n      <td>305</td>\n      <td>1725</td>\n    </tr>\n    <tr>\n      <th>100</th>\n      <td>1.000</td>\n      <td>0</td>\n      <td>0</td>\n      <td>654</td>\n      <td>1729</td>\n    </tr>\n  </tbody>\n</table>\n</div>"
     },
     "execution_count": 59,
     "metadata": {},
     "output_type": "execute_result"
    }
   ],
   "source": [
    "def confusion_matrix_dataframe(y_val, y_pred):\n",
    "    scores = []\n",
    "\n",
    "    thresholds = np.linspace(0, 1, 101)\n",
    "\n",
    "    for t in thresholds:\n",
    "        actual_positive = (y_val == 1)\n",
    "        actual_negative = (y_val == 0)\n",
    "\n",
    "        predict_positive = (y_pred >= t)\n",
    "        predict_negative = (y_pred < t)\n",
    "\n",
    "        tp = (predict_positive & actual_positive).sum()\n",
    "        tn = (predict_negative & actual_negative).sum()\n",
    "\n",
    "        fp = (predict_positive & actual_negative).sum()\n",
    "        fn = (predict_negative & actual_positive).sum()\n",
    "\n",
    "        scores.append((t, tp, fp, fn, tn))\n",
    "\n",
    "    columns = ['threshold', 'tp', 'fp', 'fn', 'tn']\n",
    "    df_scores = pd.DataFrame(scores, columns=columns)\n",
    "    \n",
    "    return df_scores\n",
    "\n",
    "df_scores = confusion_matrix_dataframe(y_val, y_pred)\n",
    "df_scores[::10]"
   ],
   "metadata": {
    "collapsed": false,
    "ExecuteTime": {
     "end_time": "2023-10-08T18:11:16.035305900Z",
     "start_time": "2023-10-08T18:11:16.008262900Z"
    }
   },
   "id": "22ccab2829ffbca5"
  },
  {
   "cell_type": "markdown",
   "source": [
    "### Q3 : At which threshold precision and recall curves intersect?"
   ],
   "metadata": {
    "collapsed": false
   },
   "id": "d3db59de933f2d6c"
  },
  {
   "cell_type": "code",
   "execution_count": 60,
   "outputs": [],
   "source": [
    "df_scores['p'] = df_scores.tp / (df_scores.tp + df_scores.fp)\n",
    "df_scores['r'] = df_scores.tp / (df_scores.tp + df_scores.fn)"
   ],
   "metadata": {
    "collapsed": false,
    "ExecuteTime": {
     "end_time": "2023-10-08T18:11:25.428335700Z",
     "start_time": "2023-10-08T18:11:25.406805300Z"
    }
   },
   "id": "6ae7c602d124ed45"
  },
  {
   "cell_type": "code",
   "execution_count": 61,
   "outputs": [
    {
     "data": {
      "text/plain": "<Figure size 640x480 with 1 Axes>",
      "image/png": "[encoded data removed]"
     },
     "metadata": {},
     "output_type": "display_data"
    }
   ],
   "source": [
    "plt.plot(df_scores.threshold, df_scores.p, label='precision')\n",
    "plt.plot(df_scores.threshold, df_scores.r, label='recall')\n",
    "\n",
    "plt.legend()\n",
    "plt.show()"
   ],
   "metadata": {
    "collapsed": false,
    "ExecuteTime": {
     "end_time": "2023-10-08T18:11:33.662420800Z",
     "start_time": "2023-10-08T18:11:33.416559100Z"
    }
   },
   "id": "68b8f21bfc3a836d"
  },
  {
   "cell_type": "code",
   "execution_count": 62,
   "outputs": [
    {
     "name": "stdout",
     "output_type": "stream",
     "text": [
      "Q3 : 0.48\n"
     ]
    }
   ],
   "source": [
    "print(\"Q3 : 0.48\")"
   ],
   "metadata": {
    "collapsed": false,
    "ExecuteTime": {
     "end_time": "2023-10-08T18:12:10.019842800Z",
     "start_time": "2023-10-08T18:12:09.997970200Z"
    }
   },
   "id": "99947110cad5e699"
  },
  {
   "cell_type": "markdown",
   "source": [
    "### Q4 : At which threshold F1 is maximal?"
   ],
   "metadata": {
    "collapsed": false
   },
   "id": "be633d2e634e66c9"
  },
  {
   "cell_type": "code",
   "execution_count": 63,
   "outputs": [],
   "source": [
    "df_scores['f1'] = 2 * df_scores.p * df_scores.r / (df_scores.p + df_scores.r)"
   ],
   "metadata": {
    "collapsed": false,
    "ExecuteTime": {
     "end_time": "2023-10-08T18:12:35.746826900Z",
     "start_time": "2023-10-08T18:12:35.724852400Z"
    }
   },
   "id": "500b2f83fc54807"
  },
  {
   "cell_type": "code",
   "execution_count": 64,
   "outputs": [
    {
     "data": {
      "text/plain": "<Figure size 640x480 with 1 Axes>",
      "image/png": "[encoded data removed]"
     },
     "metadata": {},
     "output_type": "display_data"
    }
   ],
   "source": [
    "plt.plot(df_scores.threshold, df_scores.f1)\n",
    "plt.xticks(np.linspace(0, 1, 11))\n",
    "plt.show()"
   ],
   "metadata": {
    "collapsed": false,
    "ExecuteTime": {
     "end_time": "2023-10-08T18:12:40.311806Z",
     "start_time": "2023-10-08T18:12:40.178122400Z"
    }
   },
   "id": "70f3758f9d2fb3ce"
  },
  {
   "cell_type": "code",
   "execution_count": 74,
   "outputs": [
    {
     "name": "stdout",
     "output_type": "stream",
     "text": [
      "Q4 : 0.52\n"
     ]
    }
   ],
   "source": [
    "print(\"Q4 : 0.52\")"
   ],
   "metadata": {
    "collapsed": false,
    "ExecuteTime": {
     "end_time": "2023-10-08T18:19:23.459636500Z",
     "start_time": "2023-10-08T18:19:23.442108600Z"
    }
   },
   "id": "c0fba58893856db6"
  },
  {
   "cell_type": "code",
   "execution_count": 65,
   "outputs": [],
   "source": [
    "def train(df_train, y_train, C=1.0):\n",
    "    dicts = df_train[columns].to_dict(orient='records')\n",
    "\n",
    "    dv = DictVectorizer(sparse=False)\n",
    "    X_train = dv.fit_transform(dicts)\n",
    "\n",
    "    model = LogisticRegression(solver='liblinear', C=C)\n",
    "    model.fit(X_train, y_train)\n",
    "\n",
    "    return dv, model\n",
    "\n",
    "def predict(df, dv, model):\n",
    "    dicts = df[columns].to_dict(orient='records')\n",
    "\n",
    "    X = dv.transform(dicts)\n",
    "    y_pred = model.predict_proba(X)[:, 1]\n",
    "\n",
    "    return y_pred"
   ],
   "metadata": {
    "collapsed": false,
    "ExecuteTime": {
     "end_time": "2023-10-08T18:13:51.400763400Z",
     "start_time": "2023-10-08T18:13:51.369718900Z"
    }
   },
   "id": "8b465fbf8aa818f0"
  },
  {
   "cell_type": "markdown",
   "source": [
    "### Q5 : How large is standard devidation of the scores across different folds?"
   ],
   "metadata": {
    "collapsed": false
   },
   "id": "50c8a1bfa8f3426b"
  },
  {
   "cell_type": "code",
   "execution_count": 69,
   "outputs": [
    {
     "name": "stdout",
     "output_type": "stream",
     "text": [
      "0.981 +- 0.003\n"
     ]
    }
   ],
   "source": [
    "scores = []\n",
    "\n",
    "kfold = KFold(n_splits=5, shuffle=True, random_state=1)\n",
    "\n",
    "for train_idx, val_idx in kfold.split(df_train_full):\n",
    "    df_train = df_train_full.iloc[train_idx]\n",
    "    df_val = df_train_full.iloc[val_idx]\n",
    "\n",
    "    y_train = df_train.above_average.values\n",
    "    y_val = df_val.above_average.values\n",
    "\n",
    "    dv, model = train(df_train, y_train, C=1.0)\n",
    "    y_pred = predict(df_val, dv, model)\n",
    "\n",
    "    auc = roc_auc_score(y_val, y_pred)\n",
    "    scores.append(auc)\n",
    "\n",
    "print('%.3f +- %.3f' % (np.mean(scores), np.std(scores)))"
   ],
   "metadata": {
    "collapsed": false,
    "ExecuteTime": {
     "end_time": "2023-10-08T18:17:24.690543100Z",
     "start_time": "2023-10-08T18:17:23.870870100Z"
    }
   },
   "id": "360b7eef3b74cf6e"
  },
  {
   "cell_type": "code",
   "execution_count": 77,
   "outputs": [
    {
     "name": "stdout",
     "output_type": "stream",
     "text": [
      "Q5 : 0.003\n"
     ]
    }
   ],
   "source": [
    "print(\"Q5 : 0.003\")"
   ],
   "metadata": {
    "collapsed": false,
    "ExecuteTime": {
     "end_time": "2023-10-08T18:40:53.902695500Z",
     "start_time": "2023-10-08T18:40:53.886667300Z"
    }
   },
   "id": "1613936971f589ec"
  },
  {
   "cell_type": "markdown",
   "source": [
    "### Q6 : Which C leads to the best mean score?"
   ],
   "metadata": {
    "collapsed": false
   },
   "id": "b1c669f807d6253b"
  },
  {
   "cell_type": "code",
   "execution_count": 79,
   "outputs": [
    {
     "name": "stdout",
     "output_type": "stream",
     "text": [
      "C=0.01, 0.952 +- 0.003\n",
      "C= 0.1, 0.972 +- 0.002\n",
      "C= 0.5, 0.978 +- 0.001\n",
      "C=  10, 0.981 +- 0.003\n"
     ]
    }
   ],
   "source": [
    "kfold = KFold(n_splits=5, shuffle=True, random_state=1)\n",
    "\n",
    "for C in [0.01, 0.1, 0.5, 10]:\n",
    "    scores = []\n",
    "\n",
    "    for train_idx, val_idx in kfold.split(df_train_full):\n",
    "        df_train = df_train_full.iloc[train_idx]\n",
    "        df_val = df_train_full.iloc[val_idx]\n",
    "\n",
    "        y_train = df_train.above_average.values\n",
    "        y_val = df_val.above_average.values\n",
    "\n",
    "        dv, model = train(df_train, y_train, C=C)\n",
    "        y_pred = predict(df_val, dv, model)\n",
    "\n",
    "        auc = roc_auc_score(y_val, y_pred)\n",
    "        scores.append(auc)\n",
    "\n",
    "    print('C=%4s, %.3f +- %.3f' % (C, np.mean(scores), np.std(scores)))\n",
    "     "
   ],
   "metadata": {
    "collapsed": false,
    "ExecuteTime": {
     "end_time": "2023-10-08T18:44:16.245563100Z",
     "start_time": "2023-10-08T18:44:13.193700900Z"
    }
   },
   "id": "5d19a28e5bfaf1d9"
  },
  {
   "cell_type": "code",
   "execution_count": 80,
   "outputs": [
    {
     "name": "stdout",
     "output_type": "stream",
     "text": [
      "Q6 : 10\n"
     ]
    }
   ],
   "source": [
    "print(\"Q6 : 10\")"
   ],
   "metadata": {
    "collapsed": false,
    "ExecuteTime": {
     "end_time": "2023-10-08T18:44:22.926490800Z",
     "start_time": "2023-10-08T18:44:22.905471Z"
    }
   },
   "id": "4adbc390f6e7c95d"
  }
 ],
 "metadata": {
  "kernelspec": {
   "display_name": "Python 3",
   "language": "python",
   "name": "python3"
  },
  "language_info": {
   "codemirror_mode": {
    "name": "ipython",
    "version": 2
   },
   "file_extension": ".py",
   "mimetype": "text/x-python",
   "name": "python",
   "nbconvert_exporter": "python",
   "pygments_lexer": "ipython2",
   "version": "2.7.6"
  }
 },
 "nbformat": 4,
 "nbformat_minor": 5
}
