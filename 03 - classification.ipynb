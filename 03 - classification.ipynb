{
 "cells": [
  {
   "cell_type": "code",
   "execution_count": 107,
   "id": "initial_id",
   "metadata": {
    "collapsed": true,
    "ExecuteTime": {
     "end_time": "2023-09-28T18:48:09.988432500Z",
     "start_time": "2023-09-28T18:48:09.977283400Z"
    }
   },
   "outputs": [],
   "source": [
    "import numpy as np\n",
    "import pandas as pd\n",
    "import seaborn as sns\n",
    "import matplotlib.pyplot as plt\n",
    "import warnings\n",
    "\n",
    "from sklearn.linear_model import Ridge\n",
    "from sklearn.metrics import mean_squared_error\n",
    "from sklearn.linear_model import LogisticRegression\n",
    "from sklearn.metrics import accuracy_score\n",
    "from sklearn.feature_extraction import DictVectorizer\n",
    "from sklearn.exceptions import ConvergenceWarning\n",
    "\n",
    "warnings.simplefilter(\"ignore\", category=ConvergenceWarning)\n",
    "warnings.simplefilter(action='ignore', category=FutureWarning)\n",
    "\n",
    "pd.set_option('display.max_rows', None)\n",
    "pd.set_option('display.max_columns', None)\n",
    "pd.set_option('display.width', 1000)\n",
    "pd.set_option('display.float_format', lambda x: '%.3f' % x)"
   ]
  },
  {
   "cell_type": "code",
   "execution_count": 65,
   "outputs": [
    {
     "data": {
      "text/plain": "  Make       Model  Year             Engine Fuel Type  Engine HP  Engine Cylinders Transmission Type     Driven_Wheels  Number of Doors                        Market Category Vehicle Size Vehicle Style  highway MPG  city mpg  Popularity   MSRP\n0  BMW  1 Series M  2011  premium unleaded (required)    335.000             6.000            MANUAL  rear wheel drive            2.000  Factory Tuner,Luxury,High-Performance      Compact         Coupe           26        19        3916  46135\n1  BMW    1 Series  2011  premium unleaded (required)    300.000             6.000            MANUAL  rear wheel drive            2.000                     Luxury,Performance      Compact   Convertible           28        19        3916  40650\n2  BMW    1 Series  2011  premium unleaded (required)    300.000             6.000            MANUAL  rear wheel drive            2.000                Luxury,High-Performance      Compact         Coupe           28        20        3916  36350\n3  BMW    1 Series  2011  premium unleaded (required)    230.000             6.000            MANUAL  rear wheel drive            2.000                     Luxury,Performance      Compact         Coupe           28        18        3916  29450\n4  BMW    1 Series  2011  premium unleaded (required)    230.000             6.000            MANUAL  rear wheel drive            2.000                                 Luxury      Compact   Convertible           28        18        3916  34500",
      "text/html": "<div>\n<style scoped>\n    .dataframe tbody tr th:only-of-type {\n        vertical-align: middle;\n    }\n\n    .dataframe tbody tr th {\n        vertical-align: top;\n    }\n\n    .dataframe thead th {\n        text-align: right;\n    }\n</style>\n<table border=\"1\" class=\"dataframe\">\n  <thead>\n    <tr style=\"text-align: right;\">\n      <th></th>\n      <th>Make</th>\n      <th>Model</th>\n      <th>Year</th>\n      <th>Engine Fuel Type</th>\n      <th>Engine HP</th>\n      <th>Engine Cylinders</th>\n      <th>Transmission Type</th>\n      <th>Driven_Wheels</th>\n      <th>Number of Doors</th>\n      <th>Market Category</th>\n      <th>Vehicle Size</th>\n      <th>Vehicle Style</th>\n      <th>highway MPG</th>\n      <th>city mpg</th>\n      <th>Popularity</th>\n      <th>MSRP</th>\n    </tr>\n  </thead>\n  <tbody>\n    <tr>\n      <th>0</th>\n      <td>BMW</td>\n      <td>1 Series M</td>\n      <td>2011</td>\n      <td>premium unleaded (required)</td>\n      <td>335.000</td>\n      <td>6.000</td>\n      <td>MANUAL</td>\n      <td>rear wheel drive</td>\n      <td>2.000</td>\n      <td>Factory Tuner,Luxury,High-Performance</td>\n      <td>Compact</td>\n      <td>Coupe</td>\n      <td>26</td>\n      <td>19</td>\n      <td>3916</td>\n      <td>46135</td>\n    </tr>\n    <tr>\n      <th>1</th>\n      <td>BMW</td>\n      <td>1 Series</td>\n      <td>2011</td>\n      <td>premium unleaded (required)</td>\n      <td>300.000</td>\n      <td>6.000</td>\n      <td>MANUAL</td>\n      <td>rear wheel drive</td>\n      <td>2.000</td>\n      <td>Luxury,Performance</td>\n      <td>Compact</td>\n      <td>Convertible</td>\n      <td>28</td>\n      <td>19</td>\n      <td>3916</td>\n      <td>40650</td>\n    </tr>\n    <tr>\n      <th>2</th>\n      <td>BMW</td>\n      <td>1 Series</td>\n      <td>2011</td>\n      <td>premium unleaded (required)</td>\n      <td>300.000</td>\n      <td>6.000</td>\n      <td>MANUAL</td>\n      <td>rear wheel drive</td>\n      <td>2.000</td>\n      <td>Luxury,High-Performance</td>\n      <td>Compact</td>\n      <td>Coupe</td>\n      <td>28</td>\n      <td>20</td>\n      <td>3916</td>\n      <td>36350</td>\n    </tr>\n    <tr>\n      <th>3</th>\n      <td>BMW</td>\n      <td>1 Series</td>\n      <td>2011</td>\n      <td>premium unleaded (required)</td>\n      <td>230.000</td>\n      <td>6.000</td>\n      <td>MANUAL</td>\n      <td>rear wheel drive</td>\n      <td>2.000</td>\n      <td>Luxury,Performance</td>\n      <td>Compact</td>\n      <td>Coupe</td>\n      <td>28</td>\n      <td>18</td>\n      <td>3916</td>\n      <td>29450</td>\n    </tr>\n    <tr>\n      <th>4</th>\n      <td>BMW</td>\n      <td>1 Series</td>\n      <td>2011</td>\n      <td>premium unleaded (required)</td>\n      <td>230.000</td>\n      <td>6.000</td>\n      <td>MANUAL</td>\n      <td>rear wheel drive</td>\n      <td>2.000</td>\n      <td>Luxury</td>\n      <td>Compact</td>\n      <td>Convertible</td>\n      <td>28</td>\n      <td>18</td>\n      <td>3916</td>\n      <td>34500</td>\n    </tr>\n  </tbody>\n</table>\n</div>"
     },
     "execution_count": 65,
     "metadata": {},
     "output_type": "execute_result"
    }
   ],
   "source": [
    "df_ = pd.read_csv(\"https://raw.githubusercontent.com/alexeygrigorev/mlbookcamp-code/master/chapter-02-car-price/data.csv\")\n",
    "df = df_.copy()\n",
    "df.head()"
   ],
   "metadata": {
    "collapsed": false,
    "ExecuteTime": {
     "end_time": "2023-09-28T18:33:33.293656600Z",
     "start_time": "2023-09-28T18:33:32.602330300Z"
    }
   },
   "id": "ecf353a4088928ae"
  },
  {
   "cell_type": "code",
   "execution_count": 66,
   "outputs": [],
   "source": [
    "list = [\"Make\",\"Model\",\"Year\",\"Engine HP\",\"Engine Cylinders\",\"Transmission Type\",\"Vehicle Style\",\"highway MPG\",\"city mpg\",\"MSRP\"]\n",
    "df = df[list].fillna(0)"
   ],
   "metadata": {
    "collapsed": false,
    "ExecuteTime": {
     "end_time": "2023-09-28T18:33:33.315313200Z",
     "start_time": "2023-09-28T18:33:33.294662500Z"
    }
   },
   "id": "117ded87664a32e6"
  },
  {
   "cell_type": "code",
   "execution_count": 67,
   "outputs": [
    {
     "data": {
      "text/plain": "  make       model  year  engine_hp  engine_cylinders transmission_type vehicle_style  highway_mpg  city_mpg   msrp\n0  BMW  1 Series M  2011    335.000             6.000            MANUAL         Coupe           26        19  46135\n1  BMW    1 Series  2011    300.000             6.000            MANUAL   Convertible           28        19  40650\n2  BMW    1 Series  2011    300.000             6.000            MANUAL         Coupe           28        20  36350\n3  BMW    1 Series  2011    230.000             6.000            MANUAL         Coupe           28        18  29450\n4  BMW    1 Series  2011    230.000             6.000            MANUAL   Convertible           28        18  34500",
      "text/html": "<div>\n<style scoped>\n    .dataframe tbody tr th:only-of-type {\n        vertical-align: middle;\n    }\n\n    .dataframe tbody tr th {\n        vertical-align: top;\n    }\n\n    .dataframe thead th {\n        text-align: right;\n    }\n</style>\n<table border=\"1\" class=\"dataframe\">\n  <thead>\n    <tr style=\"text-align: right;\">\n      <th></th>\n      <th>make</th>\n      <th>model</th>\n      <th>year</th>\n      <th>engine_hp</th>\n      <th>engine_cylinders</th>\n      <th>transmission_type</th>\n      <th>vehicle_style</th>\n      <th>highway_mpg</th>\n      <th>city_mpg</th>\n      <th>msrp</th>\n    </tr>\n  </thead>\n  <tbody>\n    <tr>\n      <th>0</th>\n      <td>BMW</td>\n      <td>1 Series M</td>\n      <td>2011</td>\n      <td>335.000</td>\n      <td>6.000</td>\n      <td>MANUAL</td>\n      <td>Coupe</td>\n      <td>26</td>\n      <td>19</td>\n      <td>46135</td>\n    </tr>\n    <tr>\n      <th>1</th>\n      <td>BMW</td>\n      <td>1 Series</td>\n      <td>2011</td>\n      <td>300.000</td>\n      <td>6.000</td>\n      <td>MANUAL</td>\n      <td>Convertible</td>\n      <td>28</td>\n      <td>19</td>\n      <td>40650</td>\n    </tr>\n    <tr>\n      <th>2</th>\n      <td>BMW</td>\n      <td>1 Series</td>\n      <td>2011</td>\n      <td>300.000</td>\n      <td>6.000</td>\n      <td>MANUAL</td>\n      <td>Coupe</td>\n      <td>28</td>\n      <td>20</td>\n      <td>36350</td>\n    </tr>\n    <tr>\n      <th>3</th>\n      <td>BMW</td>\n      <td>1 Series</td>\n      <td>2011</td>\n      <td>230.000</td>\n      <td>6.000</td>\n      <td>MANUAL</td>\n      <td>Coupe</td>\n      <td>28</td>\n      <td>18</td>\n      <td>29450</td>\n    </tr>\n    <tr>\n      <th>4</th>\n      <td>BMW</td>\n      <td>1 Series</td>\n      <td>2011</td>\n      <td>230.000</td>\n      <td>6.000</td>\n      <td>MANUAL</td>\n      <td>Convertible</td>\n      <td>28</td>\n      <td>18</td>\n      <td>34500</td>\n    </tr>\n  </tbody>\n</table>\n</div>"
     },
     "execution_count": 67,
     "metadata": {},
     "output_type": "execute_result"
    }
   ],
   "source": [
    "df.columns = df.columns.str.replace(' ', '_').str.lower()\n",
    "df.head()"
   ],
   "metadata": {
    "collapsed": false,
    "ExecuteTime": {
     "end_time": "2023-09-28T18:33:33.365800600Z",
     "start_time": "2023-09-28T18:33:33.314314800Z"
    }
   },
   "id": "76cf8fc9ec33eb99"
  },
  {
   "cell_type": "code",
   "execution_count": 68,
   "outputs": [
    {
     "data": {
      "text/plain": "make                 0\nmodel                0\nyear                 0\nengine_hp            0\nengine_cylinders     0\ntransmission_type    0\nvehicle_style        0\nhighway_mpg          0\ncity_mpg             0\nmsrp                 0\ndtype: int64"
     },
     "execution_count": 68,
     "metadata": {},
     "output_type": "execute_result"
    }
   ],
   "source": [
    "df.isnull().sum()"
   ],
   "metadata": {
    "collapsed": false,
    "ExecuteTime": {
     "end_time": "2023-09-28T18:33:33.396396Z",
     "start_time": "2023-09-28T18:33:33.327826500Z"
    }
   },
   "id": "f213c2d780d6e643"
  },
  {
   "cell_type": "code",
   "execution_count": 69,
   "outputs": [
    {
     "data": {
      "text/plain": "  make       model  year  engine_hp  engine_cylinders transmission_type vehicle_style  highway_mpg  city_mpg  price\n0  BMW  1 Series M  2011    335.000             6.000            MANUAL         Coupe           26        19  46135\n1  BMW    1 Series  2011    300.000             6.000            MANUAL   Convertible           28        19  40650\n2  BMW    1 Series  2011    300.000             6.000            MANUAL         Coupe           28        20  36350\n3  BMW    1 Series  2011    230.000             6.000            MANUAL         Coupe           28        18  29450\n4  BMW    1 Series  2011    230.000             6.000            MANUAL   Convertible           28        18  34500",
      "text/html": "<div>\n<style scoped>\n    .dataframe tbody tr th:only-of-type {\n        vertical-align: middle;\n    }\n\n    .dataframe tbody tr th {\n        vertical-align: top;\n    }\n\n    .dataframe thead th {\n        text-align: right;\n    }\n</style>\n<table border=\"1\" class=\"dataframe\">\n  <thead>\n    <tr style=\"text-align: right;\">\n      <th></th>\n      <th>make</th>\n      <th>model</th>\n      <th>year</th>\n      <th>engine_hp</th>\n      <th>engine_cylinders</th>\n      <th>transmission_type</th>\n      <th>vehicle_style</th>\n      <th>highway_mpg</th>\n      <th>city_mpg</th>\n      <th>price</th>\n    </tr>\n  </thead>\n  <tbody>\n    <tr>\n      <th>0</th>\n      <td>BMW</td>\n      <td>1 Series M</td>\n      <td>2011</td>\n      <td>335.000</td>\n      <td>6.000</td>\n      <td>MANUAL</td>\n      <td>Coupe</td>\n      <td>26</td>\n      <td>19</td>\n      <td>46135</td>\n    </tr>\n    <tr>\n      <th>1</th>\n      <td>BMW</td>\n      <td>1 Series</td>\n      <td>2011</td>\n      <td>300.000</td>\n      <td>6.000</td>\n      <td>MANUAL</td>\n      <td>Convertible</td>\n      <td>28</td>\n      <td>19</td>\n      <td>40650</td>\n    </tr>\n    <tr>\n      <th>2</th>\n      <td>BMW</td>\n      <td>1 Series</td>\n      <td>2011</td>\n      <td>300.000</td>\n      <td>6.000</td>\n      <td>MANUAL</td>\n      <td>Coupe</td>\n      <td>28</td>\n      <td>20</td>\n      <td>36350</td>\n    </tr>\n    <tr>\n      <th>3</th>\n      <td>BMW</td>\n      <td>1 Series</td>\n      <td>2011</td>\n      <td>230.000</td>\n      <td>6.000</td>\n      <td>MANUAL</td>\n      <td>Coupe</td>\n      <td>28</td>\n      <td>18</td>\n      <td>29450</td>\n    </tr>\n    <tr>\n      <th>4</th>\n      <td>BMW</td>\n      <td>1 Series</td>\n      <td>2011</td>\n      <td>230.000</td>\n      <td>6.000</td>\n      <td>MANUAL</td>\n      <td>Convertible</td>\n      <td>28</td>\n      <td>18</td>\n      <td>34500</td>\n    </tr>\n  </tbody>\n</table>\n</div>"
     },
     "execution_count": 69,
     "metadata": {},
     "output_type": "execute_result"
    }
   ],
   "source": [
    "df.rename(columns = {\"msrp\":\"price\"}, inplace = True)\n",
    "df.head()"
   ],
   "metadata": {
    "collapsed": false,
    "ExecuteTime": {
     "end_time": "2023-09-28T18:33:33.397395400Z",
     "start_time": "2023-09-28T18:33:33.345287400Z"
    }
   },
   "id": "3bd6a4ca3ce55672"
  },
  {
   "cell_type": "markdown",
   "source": [
    "# Q1 : What is the most frequent observation (mode) for the column transmission_type?"
   ],
   "metadata": {
    "collapsed": false
   },
   "id": "f05af00566f86ef1"
  },
  {
   "cell_type": "code",
   "execution_count": 70,
   "outputs": [
    {
     "name": "stdout",
     "output_type": "stream",
     "text": [
      "Q1 : AUTOMATIC\n"
     ]
    }
   ],
   "source": [
    "print(f\"Q1 : {df.transmission_type.mode()[0]}\")"
   ],
   "metadata": {
    "collapsed": false,
    "ExecuteTime": {
     "end_time": "2023-09-28T18:33:33.398395200Z",
     "start_time": "2023-09-28T18:33:33.356699700Z"
    }
   },
   "id": "eba6a1172a7dd790"
  },
  {
   "cell_type": "code",
   "execution_count": 71,
   "outputs": [
    {
     "name": "stdout",
     "output_type": "stream",
     "text": [
      "num_cols : ['year', 'engine_hp', 'engine_cylinders', 'highway_mpg', 'city_mpg', 'price']\n",
      "cat_cols : ['make', 'model', 'transmission_type', 'vehicle_style']\n"
     ]
    }
   ],
   "source": [
    "cat_cols = [col for col in df.columns if df[col].dtype == \"O\"]\n",
    "num_cols = [col for col in df.columns if df[col].dtype != \"O\"]\n",
    "num_cols\n",
    "print(f\"num_cols : {num_cols}\\ncat_cols : {cat_cols}\")"
   ],
   "metadata": {
    "collapsed": false,
    "ExecuteTime": {
     "end_time": "2023-09-28T18:33:33.432415200Z",
     "start_time": "2023-09-28T18:33:33.374756300Z"
    }
   },
   "id": "32bcaf5d2dcf2c3"
  },
  {
   "cell_type": "code",
   "execution_count": 72,
   "outputs": [
    {
     "data": {
      "text/plain": "   year  engine_hp  engine_cylinders  highway_mpg  city_mpg  price\n0  2011    335.000             6.000           26        19  46135\n1  2011    300.000             6.000           28        19  40650\n2  2011    300.000             6.000           28        20  36350\n3  2011    230.000             6.000           28        18  29450\n4  2011    230.000             6.000           28        18  34500",
      "text/html": "<div>\n<style scoped>\n    .dataframe tbody tr th:only-of-type {\n        vertical-align: middle;\n    }\n\n    .dataframe tbody tr th {\n        vertical-align: top;\n    }\n\n    .dataframe thead th {\n        text-align: right;\n    }\n</style>\n<table border=\"1\" class=\"dataframe\">\n  <thead>\n    <tr style=\"text-align: right;\">\n      <th></th>\n      <th>year</th>\n      <th>engine_hp</th>\n      <th>engine_cylinders</th>\n      <th>highway_mpg</th>\n      <th>city_mpg</th>\n      <th>price</th>\n    </tr>\n  </thead>\n  <tbody>\n    <tr>\n      <th>0</th>\n      <td>2011</td>\n      <td>335.000</td>\n      <td>6.000</td>\n      <td>26</td>\n      <td>19</td>\n      <td>46135</td>\n    </tr>\n    <tr>\n      <th>1</th>\n      <td>2011</td>\n      <td>300.000</td>\n      <td>6.000</td>\n      <td>28</td>\n      <td>19</td>\n      <td>40650</td>\n    </tr>\n    <tr>\n      <th>2</th>\n      <td>2011</td>\n      <td>300.000</td>\n      <td>6.000</td>\n      <td>28</td>\n      <td>20</td>\n      <td>36350</td>\n    </tr>\n    <tr>\n      <th>3</th>\n      <td>2011</td>\n      <td>230.000</td>\n      <td>6.000</td>\n      <td>28</td>\n      <td>18</td>\n      <td>29450</td>\n    </tr>\n    <tr>\n      <th>4</th>\n      <td>2011</td>\n      <td>230.000</td>\n      <td>6.000</td>\n      <td>28</td>\n      <td>18</td>\n      <td>34500</td>\n    </tr>\n  </tbody>\n</table>\n</div>"
     },
     "execution_count": 72,
     "metadata": {},
     "output_type": "execute_result"
    }
   ],
   "source": [
    "df_num = df[num_cols]\n",
    "df_num.head()"
   ],
   "metadata": {
    "collapsed": false,
    "ExecuteTime": {
     "end_time": "2023-09-28T18:33:33.457345200Z",
     "start_time": "2023-09-28T18:33:33.388348300Z"
    }
   },
   "id": "c5b73d5677460cd1"
  },
  {
   "cell_type": "markdown",
   "source": [
    "# Q2 : What are the two features that have the biggest correlation in this dataset?"
   ],
   "metadata": {
    "collapsed": false
   },
   "id": "132d7c74ec4da78b"
  },
  {
   "cell_type": "code",
   "execution_count": 73,
   "outputs": [
    {
     "data": {
      "text/plain": "                   year  engine_hp  engine_cylinders  highway_mpg  city_mpg  price\nyear              1.000      0.339            -0.041        0.258     0.198  0.228\nengine_hp         0.339      1.000             0.775       -0.416    -0.425  0.650\nengine_cylinders -0.041      0.775             1.000       -0.615    -0.587  0.526\nhighway_mpg       0.258     -0.416            -0.615        1.000     0.887 -0.160\ncity_mpg          0.198     -0.425            -0.587        0.887     1.000 -0.158\nprice             0.228      0.650             0.526       -0.160    -0.158  1.000",
      "text/html": "<div>\n<style scoped>\n    .dataframe tbody tr th:only-of-type {\n        vertical-align: middle;\n    }\n\n    .dataframe tbody tr th {\n        vertical-align: top;\n    }\n\n    .dataframe thead th {\n        text-align: right;\n    }\n</style>\n<table border=\"1\" class=\"dataframe\">\n  <thead>\n    <tr style=\"text-align: right;\">\n      <th></th>\n      <th>year</th>\n      <th>engine_hp</th>\n      <th>engine_cylinders</th>\n      <th>highway_mpg</th>\n      <th>city_mpg</th>\n      <th>price</th>\n    </tr>\n  </thead>\n  <tbody>\n    <tr>\n      <th>year</th>\n      <td>1.000</td>\n      <td>0.339</td>\n      <td>-0.041</td>\n      <td>0.258</td>\n      <td>0.198</td>\n      <td>0.228</td>\n    </tr>\n    <tr>\n      <th>engine_hp</th>\n      <td>0.339</td>\n      <td>1.000</td>\n      <td>0.775</td>\n      <td>-0.416</td>\n      <td>-0.425</td>\n      <td>0.650</td>\n    </tr>\n    <tr>\n      <th>engine_cylinders</th>\n      <td>-0.041</td>\n      <td>0.775</td>\n      <td>1.000</td>\n      <td>-0.615</td>\n      <td>-0.587</td>\n      <td>0.526</td>\n    </tr>\n    <tr>\n      <th>highway_mpg</th>\n      <td>0.258</td>\n      <td>-0.416</td>\n      <td>-0.615</td>\n      <td>1.000</td>\n      <td>0.887</td>\n      <td>-0.160</td>\n    </tr>\n    <tr>\n      <th>city_mpg</th>\n      <td>0.198</td>\n      <td>-0.425</td>\n      <td>-0.587</td>\n      <td>0.887</td>\n      <td>1.000</td>\n      <td>-0.158</td>\n    </tr>\n    <tr>\n      <th>price</th>\n      <td>0.228</td>\n      <td>0.650</td>\n      <td>0.526</td>\n      <td>-0.160</td>\n      <td>-0.158</td>\n      <td>1.000</td>\n    </tr>\n  </tbody>\n</table>\n</div>"
     },
     "execution_count": 73,
     "metadata": {},
     "output_type": "execute_result"
    }
   ],
   "source": [
    "df_num.corr()"
   ],
   "metadata": {
    "collapsed": false,
    "ExecuteTime": {
     "end_time": "2023-09-28T18:33:33.463269700Z",
     "start_time": "2023-09-28T18:33:33.404497500Z"
    }
   },
   "id": "5c8cdf9b2a965e69"
  },
  {
   "cell_type": "code",
   "execution_count": 109,
   "outputs": [
    {
     "data": {
      "text/plain": "<Figure size 1500x1000 with 2 Axes>",
      "image/png": "[encoded data removed]"
     },
     "metadata": {},
     "output_type": "display_data"
    }
   ],
   "source": [
    "plt.figure(figsize=(15,10))  \n",
    "sns.heatmap(df_num.corr(),annot=True,linewidths=.5, cmap=\"BuPu\")\n",
    "plt.title('Heatmap showing correlations between numerical data')\n",
    "plt.show()"
   ],
   "metadata": {
    "collapsed": false,
    "ExecuteTime": {
     "end_time": "2023-09-28T18:51:46.149076300Z",
     "start_time": "2023-09-28T18:51:45.914700500Z"
    }
   },
   "id": "80b6fa2eafae80e0"
  },
  {
   "cell_type": "code",
   "execution_count": 75,
   "outputs": [
    {
     "data": {
      "text/plain": "year              year               1.000\nengine_hp         engine_hp          1.000\ncity_mpg          city_mpg           1.000\nhighway_mpg       highway_mpg        1.000\nengine_cylinders  engine_cylinders   1.000\nprice             price              1.000\ncity_mpg          highway_mpg        0.887\nhighway_mpg       city_mpg           0.887\nengine_hp         engine_cylinders   0.775\nengine_cylinders  engine_hp          0.775\ndtype: float64"
     },
     "execution_count": 75,
     "metadata": {},
     "output_type": "execute_result"
    }
   ],
   "source": [
    "df_num.corr().unstack().sort_values(ascending = False)[:10]"
   ],
   "metadata": {
    "collapsed": false,
    "ExecuteTime": {
     "end_time": "2023-09-28T18:33:33.690585900Z",
     "start_time": "2023-09-28T18:33:33.668791300Z"
    }
   },
   "id": "17125822d7f324fd"
  },
  {
   "cell_type": "code",
   "execution_count": 76,
   "outputs": [
    {
     "name": "stdout",
     "output_type": "stream",
     "text": [
      "Q2 : city_mpg & highway_mpg\n"
     ]
    }
   ],
   "source": [
    "print(\"Q2 : city_mpg & highway_mpg\")"
   ],
   "metadata": {
    "collapsed": false,
    "ExecuteTime": {
     "end_time": "2023-09-28T18:33:33.806357200Z",
     "start_time": "2023-09-28T18:33:33.684585600Z"
    }
   },
   "id": "3273ed87333c76e4"
  },
  {
   "cell_type": "code",
   "execution_count": 77,
   "outputs": [],
   "source": [
    "dff = df.copy()\n",
    "mean = dff['price'].mean()\n",
    "\n",
    "dff['above_average'] = np.where(dff['price']>=mean,1,0)"
   ],
   "metadata": {
    "collapsed": false,
    "ExecuteTime": {
     "end_time": "2023-09-28T18:33:33.807357500Z",
     "start_time": "2023-09-28T18:33:33.701608700Z"
    }
   },
   "id": "7189276fabe9307a"
  },
  {
   "cell_type": "code",
   "execution_count": 78,
   "outputs": [
    {
     "data": {
      "text/plain": "  make       model  year  engine_hp  engine_cylinders transmission_type vehicle_style  highway_mpg  city_mpg  above_average\n0  BMW  1 Series M  2011    335.000             6.000            MANUAL         Coupe           26        19              1\n1  BMW    1 Series  2011    300.000             6.000            MANUAL   Convertible           28        19              1\n2  BMW    1 Series  2011    300.000             6.000            MANUAL         Coupe           28        20              0\n3  BMW    1 Series  2011    230.000             6.000            MANUAL         Coupe           28        18              0\n4  BMW    1 Series  2011    230.000             6.000            MANUAL   Convertible           28        18              0",
      "text/html": "<div>\n<style scoped>\n    .dataframe tbody tr th:only-of-type {\n        vertical-align: middle;\n    }\n\n    .dataframe tbody tr th {\n        vertical-align: top;\n    }\n\n    .dataframe thead th {\n        text-align: right;\n    }\n</style>\n<table border=\"1\" class=\"dataframe\">\n  <thead>\n    <tr style=\"text-align: right;\">\n      <th></th>\n      <th>make</th>\n      <th>model</th>\n      <th>year</th>\n      <th>engine_hp</th>\n      <th>engine_cylinders</th>\n      <th>transmission_type</th>\n      <th>vehicle_style</th>\n      <th>highway_mpg</th>\n      <th>city_mpg</th>\n      <th>above_average</th>\n    </tr>\n  </thead>\n  <tbody>\n    <tr>\n      <th>0</th>\n      <td>BMW</td>\n      <td>1 Series M</td>\n      <td>2011</td>\n      <td>335.000</td>\n      <td>6.000</td>\n      <td>MANUAL</td>\n      <td>Coupe</td>\n      <td>26</td>\n      <td>19</td>\n      <td>1</td>\n    </tr>\n    <tr>\n      <th>1</th>\n      <td>BMW</td>\n      <td>1 Series</td>\n      <td>2011</td>\n      <td>300.000</td>\n      <td>6.000</td>\n      <td>MANUAL</td>\n      <td>Convertible</td>\n      <td>28</td>\n      <td>19</td>\n      <td>1</td>\n    </tr>\n    <tr>\n      <th>2</th>\n      <td>BMW</td>\n      <td>1 Series</td>\n      <td>2011</td>\n      <td>300.000</td>\n      <td>6.000</td>\n      <td>MANUAL</td>\n      <td>Coupe</td>\n      <td>28</td>\n      <td>20</td>\n      <td>0</td>\n    </tr>\n    <tr>\n      <th>3</th>\n      <td>BMW</td>\n      <td>1 Series</td>\n      <td>2011</td>\n      <td>230.000</td>\n      <td>6.000</td>\n      <td>MANUAL</td>\n      <td>Coupe</td>\n      <td>28</td>\n      <td>18</td>\n      <td>0</td>\n    </tr>\n    <tr>\n      <th>4</th>\n      <td>BMW</td>\n      <td>1 Series</td>\n      <td>2011</td>\n      <td>230.000</td>\n      <td>6.000</td>\n      <td>MANUAL</td>\n      <td>Convertible</td>\n      <td>28</td>\n      <td>18</td>\n      <td>0</td>\n    </tr>\n  </tbody>\n</table>\n</div>"
     },
     "execution_count": 78,
     "metadata": {},
     "output_type": "execute_result"
    }
   ],
   "source": [
    "dff = dff.drop('price', axis=1)\n",
    "dff.head()"
   ],
   "metadata": {
    "collapsed": false,
    "ExecuteTime": {
     "end_time": "2023-09-28T18:33:33.807357500Z",
     "start_time": "2023-09-28T18:33:33.714306600Z"
    }
   },
   "id": "b486b0972057c412"
  },
  {
   "cell_type": "code",
   "execution_count": 79,
   "outputs": [
    {
     "name": "stdout",
     "output_type": "stream",
     "text": [
      "<class 'pandas.core.frame.DataFrame'>\n",
      "RangeIndex: 11914 entries, 0 to 11913\n",
      "Data columns (total 10 columns):\n",
      " #   Column             Non-Null Count  Dtype  \n",
      "---  ------             --------------  -----  \n",
      " 0   make               11914 non-null  object \n",
      " 1   model              11914 non-null  object \n",
      " 2   year               11914 non-null  int64  \n",
      " 3   engine_hp          11914 non-null  float64\n",
      " 4   engine_cylinders   11914 non-null  float64\n",
      " 5   transmission_type  11914 non-null  object \n",
      " 6   vehicle_style      11914 non-null  object \n",
      " 7   highway_mpg        11914 non-null  int64  \n",
      " 8   city_mpg           11914 non-null  int64  \n",
      " 9   above_average      11914 non-null  int32  \n",
      "dtypes: float64(2), int32(1), int64(3), object(4)\n",
      "memory usage: 884.4+ KB\n"
     ]
    }
   ],
   "source": [
    "dff.info()"
   ],
   "metadata": {
    "collapsed": false,
    "ExecuteTime": {
     "end_time": "2023-09-28T18:33:33.807357500Z",
     "start_time": "2023-09-28T18:33:33.730364Z"
    }
   },
   "id": "e6c391c42af68b2f"
  },
  {
   "cell_type": "code",
   "execution_count": 80,
   "outputs": [],
   "source": [
    "from sklearn.model_selection import train_test_split\n",
    "\n",
    "df_train_full, df_test = train_test_split(dff, test_size=0.2, random_state=42)\n",
    "df_train, df_val = train_test_split(df_train_full, test_size=0.25, random_state=42)"
   ],
   "metadata": {
    "collapsed": false,
    "ExecuteTime": {
     "end_time": "2023-09-28T18:33:33.808356800Z",
     "start_time": "2023-09-28T18:33:33.745488700Z"
    }
   },
   "id": "fc9292c318767597"
  },
  {
   "cell_type": "code",
   "execution_count": 81,
   "outputs": [],
   "source": [
    "df_train = df_train.reset_index(drop=True)\n",
    "df_val = df_val.reset_index(drop=True)\n",
    "df_test = df_test.reset_index(drop=True)"
   ],
   "metadata": {
    "collapsed": false,
    "ExecuteTime": {
     "end_time": "2023-09-28T18:33:33.808356800Z",
     "start_time": "2023-09-28T18:33:33.761511Z"
    }
   },
   "id": "bdbfaf40eff250c9"
  },
  {
   "cell_type": "code",
   "execution_count": 82,
   "outputs": [],
   "source": [
    "y_train = df_train.above_average.values\n",
    "y_val = df_val.above_average.values\n",
    "y_test = df_test.above_average.values"
   ],
   "metadata": {
    "collapsed": false,
    "ExecuteTime": {
     "end_time": "2023-09-28T18:33:33.808356800Z",
     "start_time": "2023-09-28T18:33:33.777081900Z"
    }
   },
   "id": "dbc57289de306e58"
  },
  {
   "cell_type": "markdown",
   "source": [
    "# Q3 : Which of these variables has the lowest mutual information score?"
   ],
   "metadata": {
    "collapsed": false
   },
   "id": "23cc120ae2442121"
  },
  {
   "cell_type": "code",
   "execution_count": 83,
   "outputs": [],
   "source": [
    "from sklearn.metrics import mutual_info_score\n",
    "\n",
    "cat = [\"make\", \"model\", \"transmission_type\", \"vehicle_style\"]\n",
    "\n",
    "def calculate_mi(series):\n",
    "    return mutual_info_score(series, df_train.above_average)\n",
    "\n",
    "df_mi = df_train[cat].apply(calculate_mi)\n",
    "df_mi = df_mi.sort_values(ascending=False).to_frame(name='MI')"
   ],
   "metadata": {
    "collapsed": false,
    "ExecuteTime": {
     "end_time": "2023-09-28T18:33:33.823440100Z",
     "start_time": "2023-09-28T18:33:33.792278300Z"
    }
   },
   "id": "be3923764e2b30e"
  },
  {
   "cell_type": "code",
   "execution_count": 84,
   "outputs": [
    {
     "data": {
      "text/plain": "                     MI\nmodel             0.462\nmake              0.240\nvehicle_style     0.084\ntransmission_type 0.021",
      "text/html": "<div>\n<style scoped>\n    .dataframe tbody tr th:only-of-type {\n        vertical-align: middle;\n    }\n\n    .dataframe tbody tr th {\n        vertical-align: top;\n    }\n\n    .dataframe thead th {\n        text-align: right;\n    }\n</style>\n<table border=\"1\" class=\"dataframe\">\n  <thead>\n    <tr style=\"text-align: right;\">\n      <th></th>\n      <th>MI</th>\n    </tr>\n  </thead>\n  <tbody>\n    <tr>\n      <th>model</th>\n      <td>0.462</td>\n    </tr>\n    <tr>\n      <th>make</th>\n      <td>0.240</td>\n    </tr>\n    <tr>\n      <th>vehicle_style</th>\n      <td>0.084</td>\n    </tr>\n    <tr>\n      <th>transmission_type</th>\n      <td>0.021</td>\n    </tr>\n  </tbody>\n</table>\n</div>"
     },
     "execution_count": 84,
     "metadata": {},
     "output_type": "execute_result"
    }
   ],
   "source": [
    "df_mi"
   ],
   "metadata": {
    "collapsed": false,
    "ExecuteTime": {
     "end_time": "2023-09-28T18:33:33.866636900Z",
     "start_time": "2023-09-28T18:33:33.824442400Z"
    }
   },
   "id": "42fe1b78a716985"
  },
  {
   "cell_type": "code",
   "execution_count": 85,
   "outputs": [
    {
     "name": "stdout",
     "output_type": "stream",
     "text": [
      "Q3 : transmission_type\n"
     ]
    }
   ],
   "source": [
    "print(\"Q3 : transmission_type\")"
   ],
   "metadata": {
    "collapsed": false,
    "ExecuteTime": {
     "end_time": "2023-09-28T18:33:33.898857Z",
     "start_time": "2023-09-28T18:33:33.838471700Z"
    }
   },
   "id": "93ff777d99c66108"
  },
  {
   "cell_type": "code",
   "execution_count": 86,
   "outputs": [],
   "source": [
    "df_train = df_train.drop('above_average', axis=1)\n",
    "df_val = df_val.drop('above_average', axis=1)\n",
    "df_test = df_test.drop('above_average', axis=1)"
   ],
   "metadata": {
    "collapsed": false,
    "ExecuteTime": {
     "end_time": "2023-09-28T18:33:33.939651600Z",
     "start_time": "2023-09-28T18:33:33.854063800Z"
    }
   },
   "id": "e57e24c1ee08951c"
  },
  {
   "cell_type": "code",
   "execution_count": 87,
   "outputs": [
    {
     "name": "stdout",
     "output_type": "stream",
     "text": [
      "num_cols : ['year', 'engine_hp', 'engine_cylinders', 'highway_mpg', 'city_mpg']\n",
      "cat_cols : ['make', 'model', 'transmission_type', 'vehicle_style']\n"
     ]
    }
   ],
   "source": [
    "df_train.head()\n",
    "cat = [col for col in df_train.columns if df[col].dtype == \"O\"]\n",
    "num = [col for col in df_train.columns if df[col].dtype != \"O\"]\n",
    "print(f\"num_cols : {num}\\ncat_cols : {cat}\")"
   ],
   "metadata": {
    "collapsed": false,
    "ExecuteTime": {
     "end_time": "2023-09-28T18:33:33.982278300Z",
     "start_time": "2023-09-28T18:33:33.872244Z"
    }
   },
   "id": "7b719941f620921f"
  },
  {
   "cell_type": "code",
   "execution_count": 88,
   "outputs": [],
   "source": [
    "train_dict = df_train[cat + num].to_dict(orient='records')\n",
    "\n",
    "dv = DictVectorizer(sparse=False)\n",
    "dv.fit(train_dict)\n",
    "\n",
    "X_train = dv.transform(train_dict)"
   ],
   "metadata": {
    "collapsed": false,
    "ExecuteTime": {
     "end_time": "2023-09-28T18:33:34.081502400Z",
     "start_time": "2023-09-28T18:33:33.915498Z"
    }
   },
   "id": "1c5b2cec40bdf52"
  },
  {
   "cell_type": "markdown",
   "source": [
    "# Q4 : What accuracy did you get?"
   ],
   "metadata": {
    "collapsed": false
   },
   "id": "ad6ad8f30838cfe5"
  },
  {
   "cell_type": "code",
   "execution_count": 89,
   "outputs": [
    {
     "name": "stdout",
     "output_type": "stream",
     "text": [
      "Q4 : 0.95\n"
     ]
    }
   ],
   "source": [
    "model = LogisticRegression(solver='liblinear', C=10, max_iter=1000, random_state=42)\n",
    "model.fit(X_train, y_train)\n",
    "\n",
    "val_dict = df_val[cat + num].to_dict(orient='records')\n",
    "X_val = dv.transform(val_dict)\n",
    "y_pred = model.predict(X_val)\n",
    "\n",
    "accuracy = np.round(accuracy_score(y_val, y_pred),2)\n",
    "print(f\"Q4 : {accuracy}\")"
   ],
   "metadata": {
    "collapsed": false,
    "ExecuteTime": {
     "end_time": "2023-09-28T18:33:34.099566400Z",
     "start_time": "2023-09-28T18:33:33.989288200Z"
    }
   },
   "id": "81bfcd6412614e36"
  },
  {
   "cell_type": "markdown",
   "source": [
    "# Q5 : Which of following feature has the smallest difference?"
   ],
   "metadata": {
    "collapsed": false
   },
   "id": "aec80c63034ed92a"
  },
  {
   "cell_type": "code",
   "execution_count": 90,
   "outputs": [
    {
     "data": {
      "text/plain": "['make',\n 'model',\n 'transmission_type',\n 'vehicle_style',\n 'year',\n 'engine_hp',\n 'engine_cylinders',\n 'highway_mpg',\n 'city_mpg']"
     },
     "execution_count": 90,
     "metadata": {},
     "output_type": "execute_result"
    }
   ],
   "source": [
    "features = cat + num\n",
    "features"
   ],
   "metadata": {
    "collapsed": false,
    "ExecuteTime": {
     "end_time": "2023-09-28T18:33:34.144395400Z",
     "start_time": "2023-09-28T18:33:34.100568500Z"
    }
   },
   "id": "bd1c4d6001df25df"
  },
  {
   "cell_type": "code",
   "execution_count": 91,
   "outputs": [
    {
     "name": "stdout",
     "output_type": "stream",
     "text": [
      "make 0.0024548887956357124 0.9475451112043642\n",
      "model 0.029731430969366257 0.9202685690306337\n",
      "transmission_type 0.004133445237096023 0.9458665547629039\n",
      "vehicle_style 0.017981535879143862 0.9320184641208561\n",
      "year 0.0016156105749055572 0.9483843894250944\n",
      "engine_hp 0.025115400755350348 0.9248845992446496\n",
      "engine_cylinders 0.0028745279060008455 0.9471254720939991\n",
      "highway_mpg 0.005812001678556444 0.9441879983214435\n",
      "city_mpg 0.01756189676877884 0.9324381032312211\n"
     ]
    }
   ],
   "source": [
    "orig_score = accuracy\n",
    "\n",
    "for c in features:\n",
    "    subset = features.copy()\n",
    "    subset.remove(c)\n",
    "    \n",
    "    train_dict = df_train[subset].to_dict(orient='records')\n",
    "\n",
    "    dv = DictVectorizer(sparse=False)\n",
    "    dv.fit(train_dict)\n",
    "\n",
    "    X_train = dv.transform(train_dict)\n",
    "\n",
    "    model = LogisticRegression(solver='liblinear', C=10, max_iter=1000, random_state=42)\n",
    "    model.fit(X_train, y_train)\n",
    "\n",
    "    val_dict = df_val[subset].to_dict(orient='records')\n",
    "    X_val = dv.transform(val_dict)\n",
    "\n",
    "    y_pred = model.predict(X_val)\n",
    "\n",
    "    score = accuracy_score(y_val, y_pred)\n",
    "    print(c, orig_score - score, score)"
   ],
   "metadata": {
    "collapsed": false,
    "ExecuteTime": {
     "end_time": "2023-09-28T18:33:35.476482Z",
     "start_time": "2023-09-28T18:33:34.116714400Z"
    }
   },
   "id": "b53b83a9fc49a9a2"
  },
  {
   "cell_type": "code",
   "execution_count": 94,
   "outputs": [
    {
     "name": "stdout",
     "output_type": "stream",
     "text": [
      "Q5 : Year.\n"
     ]
    }
   ],
   "source": [
    "print(f\"Q5 : Year.\")"
   ],
   "metadata": {
    "collapsed": false,
    "ExecuteTime": {
     "end_time": "2023-09-28T18:33:59.310379700Z",
     "start_time": "2023-09-28T18:33:59.296806200Z"
    }
   },
   "id": "b06741b982f2599d"
  },
  {
   "cell_type": "code",
   "execution_count": 96,
   "outputs": [],
   "source": [
    "df[\"price\"]=np.log1p(df[\"price\"])"
   ],
   "metadata": {
    "collapsed": false,
    "ExecuteTime": {
     "end_time": "2023-09-28T18:37:55.497356900Z",
     "start_time": "2023-09-28T18:37:55.475612100Z"
    }
   },
   "id": "c1215c9dc0f3da2b"
  },
  {
   "cell_type": "code",
   "execution_count": 97,
   "outputs": [],
   "source": [
    "df_train_full, df_test = train_test_split(df, test_size=0.2, random_state=42)\n",
    "df_train, df_val = train_test_split(df_train_full, test_size=0.25, random_state=42)"
   ],
   "metadata": {
    "collapsed": false,
    "ExecuteTime": {
     "end_time": "2023-09-28T18:38:09.805484700Z",
     "start_time": "2023-09-28T18:38:09.780221600Z"
    }
   },
   "id": "4a5e9dc6098b4aaa"
  },
  {
   "cell_type": "code",
   "execution_count": 98,
   "outputs": [],
   "source": [
    "df_train = df_train.reset_index(drop=True)\n",
    "df_val = df_val.reset_index(drop=True)\n",
    "df_test = df_test.reset_index(drop=True)"
   ],
   "metadata": {
    "collapsed": false,
    "ExecuteTime": {
     "end_time": "2023-09-28T18:38:17.625530800Z",
     "start_time": "2023-09-28T18:38:17.605876300Z"
    }
   },
   "id": "f89f9d826aea4535"
  },
  {
   "cell_type": "code",
   "execution_count": 99,
   "outputs": [],
   "source": [
    "y_train = df_train.price.values\n",
    "y_val = df_val.price.values\n",
    "y_test = df_test.price.values"
   ],
   "metadata": {
    "collapsed": false,
    "ExecuteTime": {
     "end_time": "2023-09-28T18:38:38.585280100Z",
     "start_time": "2023-09-28T18:38:38.554561Z"
    }
   },
   "id": "909d20830d4fb286"
  },
  {
   "cell_type": "code",
   "execution_count": 100,
   "outputs": [],
   "source": [
    "del df_train[\"price\"]\n",
    "del df_val[\"price\"]\n",
    "del df_test[\"price\"]"
   ],
   "metadata": {
    "collapsed": false,
    "ExecuteTime": {
     "end_time": "2023-09-28T18:38:58.590909100Z",
     "start_time": "2023-09-28T18:38:58.573335200Z"
    }
   },
   "id": "4283e06a2684f915"
  },
  {
   "cell_type": "markdown",
   "source": [
    "# Q6 : Which of these alphas leads to the best RMSE on the validation set? (Note: If there are multiple options, select the smallest alpha.)"
   ],
   "metadata": {
    "collapsed": false
   },
   "id": "21f1513771e2654e"
  },
  {
   "cell_type": "code",
   "execution_count": 101,
   "outputs": [],
   "source": [
    "train_dict = df_train[cat + num].to_dict(orient='records')"
   ],
   "metadata": {
    "collapsed": false,
    "ExecuteTime": {
     "end_time": "2023-09-28T18:40:13.430879Z",
     "start_time": "2023-09-28T18:40:13.410988600Z"
    }
   },
   "id": "a91ca2641fc10aa"
  },
  {
   "cell_type": "code",
   "execution_count": 102,
   "outputs": [],
   "source": [
    "dv = DictVectorizer(sparse=False)\n",
    "dv.fit(train_dict)\n",
    "\n",
    "X_train = dv.transform(train_dict)\n",
    "\n",
    "val_dict = df_val[cat + num].to_dict(orient='records')\n",
    "X_val = dv.transform(val_dict)"
   ],
   "metadata": {
    "collapsed": false,
    "ExecuteTime": {
     "end_time": "2023-09-28T18:40:23.577659300Z",
     "start_time": "2023-09-28T18:40:23.533718700Z"
    }
   },
   "id": "f1bf52d45f1068a"
  },
  {
   "cell_type": "code",
   "execution_count": 108,
   "outputs": [
    {
     "name": "stdout",
     "output_type": "stream",
     "text": [
      "0 0.487\n",
      "0.01 0.487\n",
      "0.1 0.487\n",
      "1 0.487\n",
      "10 0.487\n"
     ]
    }
   ],
   "source": [
    "for a in [0, 0.01, 0.1, 1, 10]:\n",
    "    model = Ridge(alpha=a, solver=\"sag\", random_state=42)\n",
    "    model.fit(X_train, y_train)\n",
    "    \n",
    "    y_pred = model.predict(X_val)\n",
    "    \n",
    "    score = np.sqrt(mean_squared_error(y_val, y_pred))\n",
    "    \n",
    "    print(a, round(score, 3))"
   ],
   "metadata": {
    "collapsed": false,
    "ExecuteTime": {
     "end_time": "2023-09-28T18:51:45.914700500Z",
     "start_time": "2023-09-28T18:48:30.340153400Z"
    }
   },
   "id": "46195e4ef072401a"
  },
  {
   "cell_type": "code",
   "execution_count": 110,
   "outputs": [
    {
     "name": "stdout",
     "output_type": "stream",
     "text": [
      "Q6 : 0\n"
     ]
    }
   ],
   "source": [
    "print(\"Q6 : 0\")"
   ],
   "metadata": {
    "collapsed": false,
    "ExecuteTime": {
     "end_time": "2023-09-28T18:52:12.961412Z",
     "start_time": "2023-09-28T18:52:12.935771300Z"
    }
   },
   "id": "37290be5831535fc"
  }
 ],
 "metadata": {
  "kernelspec": {
   "display_name": "Python 3",
   "language": "python",
   "name": "python3"
  },
  "language_info": {
   "codemirror_mode": {
    "name": "ipython",
    "version": 2
   },
   "file_extension": ".py",
   "mimetype": "text/x-python",
   "name": "python",
   "nbconvert_exporter": "python",
   "pygments_lexer": "ipython2",
   "version": "2.7.6"
  }
 },
 "nbformat": 4,
 "nbformat_minor": 5
}
