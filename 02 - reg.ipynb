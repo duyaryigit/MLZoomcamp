{
 "cells": [
  {
   "cell_type": "code",
   "execution_count": 1,
   "id": "initial_id",
   "metadata": {
    "collapsed": true,
    "ExecuteTime": {
     "end_time": "2023-09-24T17:40:57.491528300Z",
     "start_time": "2023-09-24T17:40:57.477899600Z"
    }
   },
   "outputs": [],
   "source": [
    "import numpy as np\n",
    "import pandas as pd\n",
    "import seaborn as sns\n",
    "import matplotlib.pyplot as plt\n",
    "\n",
    "pd.set_option('display.max_rows', None)\n",
    "pd.set_option('display.max_columns', None)\n",
    "pd.set_option('display.width', 1000)\n",
    "pd.set_option('display.float_format', lambda x: '%.3f' % x)"
   ]
  },
  {
   "cell_type": "code",
   "execution_count": 2,
   "outputs": [
    {
     "data": {
      "text/plain": "   longitude  latitude  housing_median_age  total_rooms  total_bedrooms  population  households  median_income  median_house_value ocean_proximity\n0   -122.230    37.880              41.000      880.000         129.000     322.000     126.000          8.325          452600.000        NEAR BAY\n1   -122.220    37.860              21.000     7099.000        1106.000    2401.000    1138.000          8.301          358500.000        NEAR BAY\n2   -122.240    37.850              52.000     1467.000         190.000     496.000     177.000          7.257          352100.000        NEAR BAY\n3   -122.250    37.850              52.000     1274.000         235.000     558.000     219.000          5.643          341300.000        NEAR BAY\n4   -122.250    37.850              52.000     1627.000         280.000     565.000     259.000          3.846          342200.000        NEAR BAY",
      "text/html": "<div>\n<style scoped>\n    .dataframe tbody tr th:only-of-type {\n        vertical-align: middle;\n    }\n\n    .dataframe tbody tr th {\n        vertical-align: top;\n    }\n\n    .dataframe thead th {\n        text-align: right;\n    }\n</style>\n<table border=\"1\" class=\"dataframe\">\n  <thead>\n    <tr style=\"text-align: right;\">\n      <th></th>\n      <th>longitude</th>\n      <th>latitude</th>\n      <th>housing_median_age</th>\n      <th>total_rooms</th>\n      <th>total_bedrooms</th>\n      <th>population</th>\n      <th>households</th>\n      <th>median_income</th>\n      <th>median_house_value</th>\n      <th>ocean_proximity</th>\n    </tr>\n  </thead>\n  <tbody>\n    <tr>\n      <th>0</th>\n      <td>-122.230</td>\n      <td>37.880</td>\n      <td>41.000</td>\n      <td>880.000</td>\n      <td>129.000</td>\n      <td>322.000</td>\n      <td>126.000</td>\n      <td>8.325</td>\n      <td>452600.000</td>\n      <td>NEAR BAY</td>\n    </tr>\n    <tr>\n      <th>1</th>\n      <td>-122.220</td>\n      <td>37.860</td>\n      <td>21.000</td>\n      <td>7099.000</td>\n      <td>1106.000</td>\n      <td>2401.000</td>\n      <td>1138.000</td>\n      <td>8.301</td>\n      <td>358500.000</td>\n      <td>NEAR BAY</td>\n    </tr>\n    <tr>\n      <th>2</th>\n      <td>-122.240</td>\n      <td>37.850</td>\n      <td>52.000</td>\n      <td>1467.000</td>\n      <td>190.000</td>\n      <td>496.000</td>\n      <td>177.000</td>\n      <td>7.257</td>\n      <td>352100.000</td>\n      <td>NEAR BAY</td>\n    </tr>\n    <tr>\n      <th>3</th>\n      <td>-122.250</td>\n      <td>37.850</td>\n      <td>52.000</td>\n      <td>1274.000</td>\n      <td>235.000</td>\n      <td>558.000</td>\n      <td>219.000</td>\n      <td>5.643</td>\n      <td>341300.000</td>\n      <td>NEAR BAY</td>\n    </tr>\n    <tr>\n      <th>4</th>\n      <td>-122.250</td>\n      <td>37.850</td>\n      <td>52.000</td>\n      <td>1627.000</td>\n      <td>280.000</td>\n      <td>565.000</td>\n      <td>259.000</td>\n      <td>3.846</td>\n      <td>342200.000</td>\n      <td>NEAR BAY</td>\n    </tr>\n  </tbody>\n</table>\n</div>"
     },
     "execution_count": 2,
     "metadata": {},
     "output_type": "execute_result"
    }
   ],
   "source": [
    "df_ = pd.read_csv(\"https://raw.githubusercontent.com/alexeygrigorev/datasets/master/housing.csv\")\n",
    "df_.head()"
   ],
   "metadata": {
    "collapsed": false,
    "ExecuteTime": {
     "end_time": "2023-09-24T17:40:58.197239300Z",
     "start_time": "2023-09-24T17:40:57.491528300Z"
    }
   },
   "id": "5b5524578ff0e545"
  },
  {
   "cell_type": "code",
   "execution_count": 3,
   "outputs": [
    {
     "data": {
      "text/plain": "     longitude  latitude  housing_median_age  total_rooms  total_bedrooms  population  households  median_income  median_house_value ocean_proximity\n701   -121.970    37.640              32.000     1283.000         194.000     485.000     171.000          6.057          431000.000       <1H OCEAN\n830   -121.990    37.610               9.000     3666.000         711.000    2341.000     703.000          4.646          217000.000       <1H OCEAN\n859   -121.970    37.570              21.000     4342.000         783.000    2172.000     789.000          4.615          247600.000       <1H OCEAN\n860   -121.960    37.580              15.000     3575.000         597.000    1777.000     559.000          5.719          283500.000       <1H OCEAN\n861   -121.980    37.580              20.000     4126.000        1031.000    2079.000     975.000          3.683          216900.000       <1H OCEAN",
      "text/html": "<div>\n<style scoped>\n    .dataframe tbody tr th:only-of-type {\n        vertical-align: middle;\n    }\n\n    .dataframe tbody tr th {\n        vertical-align: top;\n    }\n\n    .dataframe thead th {\n        text-align: right;\n    }\n</style>\n<table border=\"1\" class=\"dataframe\">\n  <thead>\n    <tr style=\"text-align: right;\">\n      <th></th>\n      <th>longitude</th>\n      <th>latitude</th>\n      <th>housing_median_age</th>\n      <th>total_rooms</th>\n      <th>total_bedrooms</th>\n      <th>population</th>\n      <th>households</th>\n      <th>median_income</th>\n      <th>median_house_value</th>\n      <th>ocean_proximity</th>\n    </tr>\n  </thead>\n  <tbody>\n    <tr>\n      <th>701</th>\n      <td>-121.970</td>\n      <td>37.640</td>\n      <td>32.000</td>\n      <td>1283.000</td>\n      <td>194.000</td>\n      <td>485.000</td>\n      <td>171.000</td>\n      <td>6.057</td>\n      <td>431000.000</td>\n      <td>&lt;1H OCEAN</td>\n    </tr>\n    <tr>\n      <th>830</th>\n      <td>-121.990</td>\n      <td>37.610</td>\n      <td>9.000</td>\n      <td>3666.000</td>\n      <td>711.000</td>\n      <td>2341.000</td>\n      <td>703.000</td>\n      <td>4.646</td>\n      <td>217000.000</td>\n      <td>&lt;1H OCEAN</td>\n    </tr>\n    <tr>\n      <th>859</th>\n      <td>-121.970</td>\n      <td>37.570</td>\n      <td>21.000</td>\n      <td>4342.000</td>\n      <td>783.000</td>\n      <td>2172.000</td>\n      <td>789.000</td>\n      <td>4.615</td>\n      <td>247600.000</td>\n      <td>&lt;1H OCEAN</td>\n    </tr>\n    <tr>\n      <th>860</th>\n      <td>-121.960</td>\n      <td>37.580</td>\n      <td>15.000</td>\n      <td>3575.000</td>\n      <td>597.000</td>\n      <td>1777.000</td>\n      <td>559.000</td>\n      <td>5.719</td>\n      <td>283500.000</td>\n      <td>&lt;1H OCEAN</td>\n    </tr>\n    <tr>\n      <th>861</th>\n      <td>-121.980</td>\n      <td>37.580</td>\n      <td>20.000</td>\n      <td>4126.000</td>\n      <td>1031.000</td>\n      <td>2079.000</td>\n      <td>975.000</td>\n      <td>3.683</td>\n      <td>216900.000</td>\n      <td>&lt;1H OCEAN</td>\n    </tr>\n  </tbody>\n</table>\n</div>"
     },
     "execution_count": 3,
     "metadata": {},
     "output_type": "execute_result"
    }
   ],
   "source": [
    "df_ = df_[(df_.ocean_proximity == \"<1H OCEAN\") | (df_.ocean_proximity == \"INLAND\")]\n",
    "df_.head()"
   ],
   "metadata": {
    "collapsed": false,
    "ExecuteTime": {
     "end_time": "2023-09-24T17:40:58.221218300Z",
     "start_time": "2023-09-24T17:40:58.189731800Z"
    }
   },
   "id": "a72862211834abe2"
  },
  {
   "cell_type": "code",
   "execution_count": 4,
   "outputs": [
    {
     "data": {
      "text/plain": "   latitude  longitude  housing_median_age  total_rooms  total_bedrooms  population  households  median_income  median_house_value\n0    37.640   -121.970              32.000     1283.000         194.000     485.000     171.000          6.057          431000.000\n1    37.610   -121.990               9.000     3666.000         711.000    2341.000     703.000          4.646          217000.000\n2    37.570   -121.970              21.000     4342.000         783.000    2172.000     789.000          4.615          247600.000\n3    37.580   -121.960              15.000     3575.000         597.000    1777.000     559.000          5.719          283500.000\n4    37.580   -121.980              20.000     4126.000        1031.000    2079.000     975.000          3.683          216900.000",
      "text/html": "<div>\n<style scoped>\n    .dataframe tbody tr th:only-of-type {\n        vertical-align: middle;\n    }\n\n    .dataframe tbody tr th {\n        vertical-align: top;\n    }\n\n    .dataframe thead th {\n        text-align: right;\n    }\n</style>\n<table border=\"1\" class=\"dataframe\">\n  <thead>\n    <tr style=\"text-align: right;\">\n      <th></th>\n      <th>latitude</th>\n      <th>longitude</th>\n      <th>housing_median_age</th>\n      <th>total_rooms</th>\n      <th>total_bedrooms</th>\n      <th>population</th>\n      <th>households</th>\n      <th>median_income</th>\n      <th>median_house_value</th>\n    </tr>\n  </thead>\n  <tbody>\n    <tr>\n      <th>0</th>\n      <td>37.640</td>\n      <td>-121.970</td>\n      <td>32.000</td>\n      <td>1283.000</td>\n      <td>194.000</td>\n      <td>485.000</td>\n      <td>171.000</td>\n      <td>6.057</td>\n      <td>431000.000</td>\n    </tr>\n    <tr>\n      <th>1</th>\n      <td>37.610</td>\n      <td>-121.990</td>\n      <td>9.000</td>\n      <td>3666.000</td>\n      <td>711.000</td>\n      <td>2341.000</td>\n      <td>703.000</td>\n      <td>4.646</td>\n      <td>217000.000</td>\n    </tr>\n    <tr>\n      <th>2</th>\n      <td>37.570</td>\n      <td>-121.970</td>\n      <td>21.000</td>\n      <td>4342.000</td>\n      <td>783.000</td>\n      <td>2172.000</td>\n      <td>789.000</td>\n      <td>4.615</td>\n      <td>247600.000</td>\n    </tr>\n    <tr>\n      <th>3</th>\n      <td>37.580</td>\n      <td>-121.960</td>\n      <td>15.000</td>\n      <td>3575.000</td>\n      <td>597.000</td>\n      <td>1777.000</td>\n      <td>559.000</td>\n      <td>5.719</td>\n      <td>283500.000</td>\n    </tr>\n    <tr>\n      <th>4</th>\n      <td>37.580</td>\n      <td>-121.980</td>\n      <td>20.000</td>\n      <td>4126.000</td>\n      <td>1031.000</td>\n      <td>2079.000</td>\n      <td>975.000</td>\n      <td>3.683</td>\n      <td>216900.000</td>\n    </tr>\n  </tbody>\n</table>\n</div>"
     },
     "execution_count": 4,
     "metadata": {},
     "output_type": "execute_result"
    }
   ],
   "source": [
    "df = df_[[\"latitude\",\"longitude\",\"housing_median_age\",\"total_rooms\",\"total_bedrooms\", \"population\",\"households\",\"median_income\",\"median_house_value\"]]\n",
    "df.reset_index(inplace=True, drop=True)\n",
    "df.head()"
   ],
   "metadata": {
    "collapsed": false,
    "ExecuteTime": {
     "end_time": "2023-09-24T17:40:58.280543100Z",
     "start_time": "2023-09-24T17:40:58.205958600Z"
    }
   },
   "id": "1f80434cd11b4e20"
  },
  {
   "cell_type": "code",
   "execution_count": 5,
   "outputs": [
    {
     "name": "stdout",
     "output_type": "stream",
     "text": [
      "Q1 : ['total_bedrooms']\n"
     ]
    }
   ],
   "source": [
    "print(f\"Q1 : {df.columns[df.isnull().any()].tolist()}\")"
   ],
   "metadata": {
    "collapsed": false,
    "ExecuteTime": {
     "end_time": "2023-09-24T17:40:58.309334100Z",
     "start_time": "2023-09-24T17:40:58.221218300Z"
    }
   },
   "id": "9058ec8de46b997b"
  },
  {
   "cell_type": "code",
   "execution_count": 6,
   "outputs": [
    {
     "name": "stdout",
     "output_type": "stream",
     "text": [
      "Q2 : 1195.0\n"
     ]
    }
   ],
   "source": [
    "print(f\"Q2 : {df.population.quantile(0.5)}\")\n",
    "# or print(f\"Q2 : {np.median(df.population)}\")"
   ],
   "metadata": {
    "collapsed": false,
    "ExecuteTime": {
     "end_time": "2023-09-24T17:40:58.388397600Z",
     "start_time": "2023-09-24T17:40:58.236817700Z"
    }
   },
   "id": "a96e188424c15d48"
  },
  {
   "cell_type": "code",
   "execution_count": 7,
   "outputs": [],
   "source": [
    "n = len(df)\n",
    "\n",
    "n_val = int(0.2 * n)\n",
    "n_test = int(0.2 * n)\n",
    "n_train = n - (n_val + n_test)\n",
    "\n",
    "idx = np.arange(n)\n",
    "np.random.seed(42)\n",
    "np.random.shuffle(idx)\n",
    "\n",
    "df_shuffled = df.iloc[idx]\n",
    "\n",
    "df_train = df_shuffled.iloc[:n_train].copy()\n",
    "df_val = df_shuffled.iloc[n_train:n_train+n_val].copy()\n",
    "df_test = df_shuffled.iloc[n_train+n_val:].copy()\n",
    "\n",
    "df_train.reset_index(inplace=True, drop=True)\n",
    "df_val.reset_index(inplace=True, drop=True)\n",
    "df_test.reset_index(inplace=True, drop=True)\n",
    "\n",
    "y_train_1 = df_train.median_house_value.values\n",
    "y_val_1 = df_val.median_house_value.values\n",
    "y_test_1 = df_test.median_house_value.values\n",
    "\n",
    "y_train = np.log1p(y_train_1)\n",
    "y_val = np.log1p(y_val_1)\n",
    "y_test = np.log1p(y_test_1)\n",
    "\n",
    "del df_train[\"median_house_value\"]\n",
    "del df_val[\"median_house_value\"]\n",
    "del df_test[\"median_house_value\"]\n"
   ],
   "metadata": {
    "collapsed": false,
    "ExecuteTime": {
     "end_time": "2023-09-24T17:40:58.408251200Z",
     "start_time": "2023-09-24T17:40:58.253767400Z"
    }
   },
   "id": "2fe5d1d164cddc57"
  },
  {
   "cell_type": "code",
   "execution_count": 9,
   "outputs": [],
   "source": [
    "#LR\n",
    "def train_linear_regression(X, y):\n",
    "    ones = np.ones(X.shape[0])\n",
    "    X = np.column_stack([ones, X])\n",
    "\n",
    "    XTX = X.T.dot(X)\n",
    "    XTX_inv = np.linalg.inv(XTX)\n",
    "    w = XTX_inv.dot(X.T).dot(y)\n",
    "\n",
    "    return w[0], w[1:]\n",
    "\n",
    "#RMSE\n",
    "def rmse(y, y_pred):\n",
    "    error = y_pred - y\n",
    "    mse = (error ** 2).mean()\n",
    "    return np.sqrt(mse)"
   ],
   "metadata": {
    "collapsed": false,
    "ExecuteTime": {
     "end_time": "2023-09-24T17:41:19.020220500Z",
     "start_time": "2023-09-24T17:41:19.005035Z"
    }
   },
   "id": "fae4f597f1fe134b"
  },
  {
   "cell_type": "code",
   "execution_count": 10,
   "outputs": [
    {
     "data": {
      "text/plain": "542.552956325786"
     },
     "execution_count": 10,
     "metadata": {},
     "output_type": "execute_result"
    }
   ],
   "source": [
    "# Computing the trainin mean\n",
    "total_bedrooms_mean = df_train['total_bedrooms'].mean()\n",
    "total_bedrooms_mean"
   ],
   "metadata": {
    "collapsed": false,
    "ExecuteTime": {
     "end_time": "2023-09-24T17:41:20.315191700Z",
     "start_time": "2023-09-24T17:41:20.295037100Z"
    }
   },
   "id": "7ea82f7c7c8a56d5"
  },
  {
   "cell_type": "code",
   "execution_count": 11,
   "outputs": [],
   "source": [
    "def prepare_data(df, mean_replace_value=None):\n",
    "    df_temp = df.copy()\n",
    "    if mean_replace_value is None:\n",
    "        X = df_temp.values\n",
    "\n",
    "    else:\n",
    "        df_temp['total_bedrooms'] = df_temp['total_bedrooms'].fillna(mean_replace_value)\n",
    "        X = df_temp.values\n",
    "        #print(replace_value)\n",
    "\n",
    "    return X"
   ],
   "metadata": {
    "collapsed": false,
    "ExecuteTime": {
     "end_time": "2023-09-24T17:41:27.294485400Z",
     "start_time": "2023-09-24T17:41:27.286374300Z"
    }
   },
   "id": "f1fecdc3cf21b3ba"
  },
  {
   "cell_type": "code",
   "execution_count": 12,
   "outputs": [
    {
     "data": {
      "text/plain": "0.34"
     },
     "execution_count": 12,
     "metadata": {},
     "output_type": "execute_result"
    }
   ],
   "source": [
    "X_train = prepare_data(df_train, 0)\n",
    "w0, w = train_linear_regression(X_train, y_train)\n",
    "\n",
    "X_val = prepare_data(df_val, 0)\n",
    "y_pred = w0 + X_val.dot(w)\n",
    "rmse_zero_fill = round(rmse(y_val, y_pred), 2)\n",
    "rmse_zero_fill"
   ],
   "metadata": {
    "collapsed": false,
    "ExecuteTime": {
     "end_time": "2023-09-24T17:41:29.028219400Z",
     "start_time": "2023-09-24T17:41:28.996082300Z"
    }
   },
   "id": "99bfcb12547247fa"
  },
  {
   "cell_type": "code",
   "execution_count": 13,
   "outputs": [
    {
     "data": {
      "text/plain": "0.34"
     },
     "execution_count": 13,
     "metadata": {},
     "output_type": "execute_result"
    }
   ],
   "source": [
    "X_train = prepare_data(df_train, total_bedrooms_mean)\n",
    "w0, w = train_linear_regression(X_train, y_train)\n",
    "\n",
    "X_val = prepare_data(df_val, total_bedrooms_mean)\n",
    "y_pred = w0 + X_val.dot(w)\n",
    "rmse_mean_fill = round(rmse(y_val, y_pred), 2)\n",
    "rmse_mean_fill"
   ],
   "metadata": {
    "collapsed": false,
    "ExecuteTime": {
     "end_time": "2023-09-24T17:41:39.776825900Z",
     "start_time": "2023-09-24T17:41:39.746301300Z"
    }
   },
   "id": "84ab937c2e54fec"
  },
  {
   "cell_type": "code",
   "execution_count": 14,
   "outputs": [],
   "source": [
    "#Regularization\n",
    "def train_linear_regression_reg(X, y, r=0.0):\n",
    "    ones = np.ones(X.shape[0])\n",
    "    X = np.column_stack([ones, X])\n",
    "\n",
    "    XTX = X.T.dot(X)\n",
    "    reg = r * np.eye(XTX.shape[0])\n",
    "    XTX = XTX + reg\n",
    "\n",
    "    XTX_inv = np.linalg.inv(XTX)\n",
    "    w = XTX_inv.dot(X.T).dot(y)\n",
    "\n",
    "    return w[0], w[1:]"
   ],
   "metadata": {
    "collapsed": false,
    "ExecuteTime": {
     "end_time": "2023-09-24T17:41:42.608346400Z",
     "start_time": "2023-09-24T17:41:42.590040100Z"
    }
   },
   "id": "24e62d10c1aff8c9"
  },
  {
   "cell_type": "code",
   "execution_count": 15,
   "outputs": [],
   "source": [
    "X_train = prepare_data(df_train,0)"
   ],
   "metadata": {
    "collapsed": false,
    "ExecuteTime": {
     "end_time": "2023-09-24T17:41:44.186034400Z",
     "start_time": "2023-09-24T17:41:44.179034400Z"
    }
   },
   "id": "74b5fb6290545cee"
  },
  {
   "cell_type": "code",
   "execution_count": 16,
   "outputs": [
    {
     "name": "stdout",
     "output_type": "stream",
     "text": [
      "0 -9.76\n",
      "1e-06 -9.76\n",
      "0.0001 -9.76\n",
      "0.001 -9.74\n",
      "0.01 -9.56\n",
      "0.1 -8.06\n",
      "1 -3.13\n",
      "5 -0.84\n",
      "10 -0.44\n"
     ]
    }
   ],
   "source": [
    "for r in [0, 0.000001, 0.0001, 0.001, 0.01, 0.1, 1, 5, 10]:\n",
    "    w_0, w = train_linear_regression_reg(X_train, y_train, r=r)\n",
    "    print(r,round( w_0,2))"
   ],
   "metadata": {
    "collapsed": false,
    "ExecuteTime": {
     "end_time": "2023-09-24T17:41:45.676961100Z",
     "start_time": "2023-09-24T17:41:45.657140200Z"
    }
   },
   "id": "e065b73580e3819b"
  },
  {
   "cell_type": "code",
   "execution_count": 18,
   "outputs": [
    {
     "name": "stdout",
     "output_type": "stream",
     "text": [
      "     0 0.34084790341748605\n",
      " 1e-06 0.3408479061812768\n",
      "0.0001 0.3408481800544602\n",
      " 0.001 0.3408506921902752\n",
      "  0.01 0.3408779300545323\n",
      "   0.1 0.3412862042012406\n",
      "     1 0.34489583276460106\n",
      "     5 0.34773980704851\n",
      "    10 0.34831498335193445\n",
      "Q4: RMSE 0.34084790341748605 r value: 0\n"
     ]
    }
   ],
   "source": [
    "results = dict()\n",
    "X_train = prepare_data(df_train, 0)\n",
    "X_val = prepare_data(df_val, 0)\n",
    "best_rmse = None\n",
    "best_rmse_arg = None\n",
    "\n",
    "for r in [0, 0.000001, 0.0001, 0.001, 0.01, 0.1, 1, 5, 10]:\n",
    "    w_0, w = train_linear_regression_reg(X_train, y_train, r=r)\n",
    "    y_pred = w_0 + X_val.dot(w)\n",
    "    print('%6s' %r, rmse(y_val, y_pred))\n",
    "    raw_rmse = rmse(y_val, y_pred)\n",
    "    if best_rmse is None:\n",
    "        best_rmse = raw_rmse\n",
    "        best_rmse_arg = r\n",
    "    elif raw_rmse < best_rmse:\n",
    "        best_rmse = raw_rmse\n",
    "        best_rmse_arg = r\n",
    "    results[r] = round(raw_rmse, 2)\n",
    "\n",
    "\n",
    "print(f\"Q4: RMSE {best_rmse} r value: {best_rmse_arg}\")"
   ],
   "metadata": {
    "collapsed": false,
    "ExecuteTime": {
     "end_time": "2023-09-24T17:42:05.998214900Z",
     "start_time": "2023-09-24T17:42:05.962993Z"
    }
   },
   "id": "b1252b9841bbb31c"
  },
  {
   "cell_type": "code",
   "execution_count": 20,
   "outputs": [
    {
     "name": "stdout",
     "output_type": "stream",
     "text": [
      "for seed = 0 score = 0.33773871601025524 \n",
      "\n",
      "for seed = 1 score = 0.33779993536588276 \n",
      "\n",
      "for seed = 2 score = 0.3384287006776504 \n",
      "\n",
      "for seed = 3 score = 0.33200494683036935 \n",
      "\n",
      "for seed = 4 score = 0.33944518625587355 \n",
      "\n",
      "for seed = 5 score = 0.34338197052874636 \n",
      "\n",
      "for seed = 6 score = 0.3385330211767324 \n",
      "\n",
      "for seed = 7 score = 0.34687476972787956 \n",
      "\n",
      "for seed = 8 score = 0.3512736865960519 \n",
      "\n",
      "for seed = 9 score = 0.3341558266504128 \n",
      "\n",
      "Q5 : 0.005\n"
     ]
    }
   ],
   "source": [
    "scores = list()\n",
    "n = len(df)\n",
    "n_val = int(n * 0.2)\n",
    "n_test = int(n * 0.2)\n",
    "n_train = n - n_val - n_test\n",
    "\n",
    "for seed in [0, 1, 2, 3, 4, 5, 6, 7, 8, 9]:\n",
    "    idx = np.arange(n)\n",
    "    np.random.seed(seed)\n",
    "    np.random.shuffle(idx)\n",
    "\n",
    "    # split dataset into 3 parts\n",
    "    df_train = df.iloc[idx[:n_train]]\n",
    "    df_val = df.iloc[idx[n_train:n_train + n_val]]\n",
    "    df_test = df.iloc[idx[n_train + n_val:]]\n",
    "\n",
    "    # reset indexes\n",
    "    df_train = df_train.reset_index(drop=True)\n",
    "    df_val = df_val.reset_index(drop=True)\n",
    "    df_test = df_test.reset_index(drop=True)\n",
    "\n",
    "    # Apply log transformation to the 'median_house_value' variable\n",
    "    y_train= np.log1p(df_train['median_house_value'])\n",
    "    y_val = np.log1p(df_val['median_house_value'])\n",
    "    y_test = np.log1p(df_test['median_house_value'])\n",
    "\n",
    "    # drop target variable from the dataset\n",
    "    del df_train['median_house_value']\n",
    "    del df_val['median_house_value']\n",
    "    del df_test['median_house_value']\n",
    "\n",
    "    X_train_seed = prepare_data(df_train, 0)\n",
    "\n",
    "    w0, w = train_linear_regression(X_train_seed, y_train)\n",
    "\n",
    "    X_val_seed = prepare_data(df_val, 0)\n",
    "    y_pred = w0 + X_val_seed.dot(w)\n",
    "    scores.append(rmse(y_val, y_pred))\n",
    "    print('for seed =', seed, 'score =', scores[seed], '\\n')\n",
    "\n",
    "\n",
    "print(f\"Q5 : {round(np.std(scores), 3)}\")"
   ],
   "metadata": {
    "collapsed": false,
    "ExecuteTime": {
     "end_time": "2023-09-24T17:42:16.443287700Z",
     "start_time": "2023-09-24T17:42:16.386778300Z"
    }
   },
   "id": "6019b843ffaad580"
  },
  {
   "cell_type": "code",
   "execution_count": 23,
   "outputs": [
    {
     "name": "stdout",
     "output_type": "stream",
     "text": [
      "Q6 : Test RMSE 0.33\n"
     ]
    }
   ],
   "source": [
    "n = len(df)\n",
    "n_val = int(n * 0.2)\n",
    "n_test = int(n * 0.2)\n",
    "n_train = n - n_val - n_test\n",
    "\n",
    "idx = np.arange(n)\n",
    "np.random.seed(9)\n",
    "np.random.shuffle(idx)\n",
    "\n",
    "df_train = df.iloc[idx[:n_train+n_val]]\n",
    "df_test = df.iloc[idx[n_train+n_val:]]\n",
    "\n",
    "df_train = df_train.reset_index(drop=True)\n",
    "df_test = df_test.reset_index(drop=True)\n",
    "\n",
    "y_train = np.log1p(df_train.median_house_value.values)\n",
    "y_test = np.log1p(df_test.median_house_value.values)\n",
    "\n",
    "del df_train['median_house_value']\n",
    "del df_test['median_house_value']\n",
    "\n",
    "X_train = prepare_data(df_train, 0)\n",
    "w0, w = train_linear_regression_reg(X_train, y_train, r=0.001)\n",
    "\n",
    "X_test = prepare_data(df_test, 0)\n",
    "y_pred = w0 + X_test.dot(w)\n",
    "\n",
    "\n",
    "print(f\"Q6 : Test RMSE {round(rmse(y_test, y_pred), 2)}\")"
   ],
   "metadata": {
    "collapsed": false,
    "ExecuteTime": {
     "end_time": "2023-09-24T17:42:44.818019500Z",
     "start_time": "2023-09-24T17:42:44.806412400Z"
    }
   },
   "id": "e302fd59428c56ab"
  }
 ],
 "metadata": {
  "kernelspec": {
   "display_name": "Python 3",
   "language": "python",
   "name": "python3"
  },
  "language_info": {
   "codemirror_mode": {
    "name": "ipython",
    "version": 2
   },
   "file_extension": ".py",
   "mimetype": "text/x-python",
   "name": "python",
   "nbconvert_exporter": "python",
   "pygments_lexer": "ipython2",
   "version": "2.7.6"
  }
 },
 "nbformat": 4,
 "nbformat_minor": 5
}
